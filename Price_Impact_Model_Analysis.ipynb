{
 "cells":[
  {
   "cell_type":"code",
   "source":[
    "# Import necessary libraries and modules\n",
    "import gc\n",
    "import json\n",
    "import os\n",
    "import pickle\n",
    "import warnings\n",
    "import itertools\n",
    "import time\n",
    "import cudf\n",
    "\n",
    "# Machine learning libraries\n",
    "\n",
    "from cuml.ensemble import RandomForestRegressor as cuRF\n",
    "from cuml.linear_model import Ridge, ElasticNet\n",
    "import cupy as cp\n",
    "from lightgbm import LGBMRegressor\n",
    "import pandas as pd\n",
    "import xgboost as xgb\n",
    "from sklearn.preprocessing import StandardScaler\n",
    "import statsmodels.api as sm\n",
    "\n",
    "# Suppress specific warnings\n",
    "warnings.filterwarnings(\"ignore\", category=DeprecationWarning)"
   ],
   "execution_count":4,
   "outputs":[],
   "metadata":{
    "datalore":{
     "node_id":"TmWdpGiWg1lY7dpFkMdTPt",
     "type":"CODE",
     "hide_input_from_viewers":true,
     "hide_output_from_viewers":true
    }
   }
  },
  {
   "cell_type":"markdown",
   "source":[
    "## Metric Computation Functions\n",
    "**Purpose**: Define a utility function to compute regression performance metrics (MSE, RMSE, MAE, R², etc.) that will be used later to compare the predictive accuracy of different models."
   ],
   "attachments":{},
   "metadata":{
    "datalore":{
     "node_id":"3kmhMUjtpQpuIdosD0JdDP",
     "type":"MD",
     "hide_input_from_viewers":true,
     "hide_output_from_viewers":true
    }
   }
  },
  {
   "cell_type":"code",
   "source":[
    "import numpy as np\n",
    "from sklearn.metrics import (\n",
    "    mean_squared_error,\n",
    "    mean_absolute_error,\n",
    "    r2_score,\n",
    "    median_absolute_error,\n",
    "    explained_variance_score\n",
    ")\n",
    "\n",
    "# Compute Metrics Function\n",
    "def compute_regression_metrics(y_true, y_pred):\n",
    "    \"\"\"\n",
    "    Compute regression metrics and return as a dictionary.\n",
    "    \"\"\"\n",
    "    mse = mean_squared_error(y_true, y_pred)\n",
    "    mae = mean_absolute_error(y_true, y_pred)\n",
    "    rmse = np.sqrt(mse)\n",
    "    r2 = r2_score(y_true, y_pred)\n",
    "    medae = median_absolute_error(y_true, y_pred)\n",
    "    evs = explained_variance_score(y_true, y_pred)\n",
    "    \n",
    "    metrics = {\n",
    "        'MSE': mse,\n",
    "        'RMSE': rmse,\n",
    "        'MAE': mae,\n",
    "        'R2': r2,\n",
    "        'Median Absolute Error': medae,\n",
    "        'Explained Variance': evs\n",
    "    }\n",
    "    \n",
    "    return metrics"
   ],
   "execution_count":5,
   "outputs":[],
   "metadata":{
    "datalore":{
     "node_id":"Iz6sHoyrO9h99kaUWt9SRl",
     "type":"CODE",
     "hide_input_from_viewers":true,
     "hide_output_from_viewers":true
    }
   }
  },
  {
   "cell_type":"markdown",
   "source":[
    "## Data Loading and Feature Engineering\n",
    "\n",
    "**Purpose**: Define predictor and target columns, load data from parquet files, and create additional lag features to enrich the dataset."
   ],
   "attachments":{},
   "metadata":{
    "datalore":{
     "node_id":"TN402by7p19Uotktadpem2",
     "type":"MD",
     "hide_input_from_viewers":true,
     "hide_output_from_viewers":true
    }
   }
  },
  {
   "cell_type":"code",
   "source":[
    "#####################################\n",
    "# 1. SETUP SECTION\n",
    "#####################################\n",
    "\n",
    "# Define predictor columns and target columns.\n",
    "predictor_cols = [\n",
    "    'bid', 'spread_minus', 'bbo_moving_trade', 'non_bbo_moving_trade', 'bbo_improving_limit',\n",
    "    'bbo_worsening_cancel', 'bbo_depth_add_limit', 'bbo_depth_remove_cancel',\n",
    "    'non_bbo_depth_add_limit', 'non_bbo_depth_remove_cancel', 'non_bbo_deep_depth_add_limit',\n",
    "    'non_bbo_deep_depth_remove_cancel', 'bbo_depth_imbalance_minus', \n",
    "    'non_bbo_depth_imbalance_minus', 'non_bbo_deep_depth_imbalance_minus', \n",
    "    'bbo_queue_length_immbalance_minus', 'block_2', 'block_3', 'block_4', 'block_5', 'block_6'\n",
    "]\n",
    "\n",
    "# Additional observable features and their replicates.\n",
    "ob_features = [\n",
    "    'bbo_moving_trade', 'non_bbo_moving_trade', 'bbo_improving_limit',\n",
    "    'bbo_worsening_cancel', 'bbo_depth_add_limit', 'bbo_depth_remove_cancel',\n",
    "    'non_bbo_depth_add_limit', 'non_bbo_depth_remove_cancel', \n",
    "    'non_bbo_deep_depth_add_limit', 'non_bbo_deep_depth_remove_cancel'\n",
    "]\n",
    "for feat in ob_features:\n",
    "    for r in range(1, 4):\n",
    "        predictor_cols.append(f'{feat}_{r}')\n",
    "\n",
    "# Define target columns\n",
    "# target_cols = ['px_imp_0', 'px_imp_1', 'px_imp_5', 'px_imp_10', 'px_imp_20']\n",
    "target_cols = ['px_imp_5']\n",
    "\n",
    "# Define file paths.\n",
    "eval_pairs = [('\/data\/workspace_files\/train_oct\/oct_train1_df.parquet', '\/data\/workspace_files\/val_oct\/oct_val1_df.parquet'),\n",
    "              ('\/data\/workspace_files\/train_oct\/oct_train2_df.parquet', '\/data\/workspace_files\/val_oct\/oct_val2_df.parquet'),\n",
    "              ('\/data\/workspace_files\/train_oct\/oct_train3_df.parquet', '\/data\/workspace_files\/val_oct\/oct_val3_df.parquet'),\n",
    "              ('\/data\/workspace_files\/train_oct\/oct_train4_df.parquet', '\/data\/workspace_files\/val_oct\/oct_val4_df.parquet'),\n",
    "              ('\/data\/workspace_files\/train_nov\/nov_train5_df.parquet', '\/data\/workspace_files\/val_nov\/nov_val5_df.parquet'),\n",
    "              ('\/data\/workspace_files\/train_nov\/nov_train6_df.parquet', '\/data\/workspace_files\/val_nov\/nov_val6_df.parquet'),\n",
    "              ('\/data\/workspace_files\/train_nov\/nov_train7_df.parquet', '\/data\/workspace_files\/val_nov\/nov_val7_df.parquet')]\n"
   ],
   "execution_count":6,
   "outputs":[],
   "metadata":{
    "datalore":{
     "node_id":"kLG7cEbjO0B3xadWgl5VTF",
     "type":"CODE",
     "hide_input_from_viewers":true,
     "hide_output_from_viewers":true
    }
   }
  },
  {
   "cell_type":"code",
   "source":[
    "X_train = pd.read_parquet('\/data\/workspace_files\/train_nov\/fourth_week_df.parquet')\n",
    "X_train.head()"
   ],
   "execution_count":7,
   "outputs":[
    {
     "data":{
      "text\/html":[
       "<div>\n",
       "<style scoped>\n",
       "    .dataframe tbody tr th:only-of-type {\n",
       "        vertical-align: middle;\n",
       "    }\n",
       "\n",
       "    .dataframe tbody tr th {\n",
       "        vertical-align: top;\n",
       "    }\n",
       "\n",
       "    .dataframe thead th {\n",
       "        text-align: right;\n",
       "    }\n",
       "<\/style>\n",
       "<table border=\"1\" class=\"dataframe\">\n",
       "  <thead>\n",
       "    <tr style=\"text-align: right;\">\n",
       "      <th><\/th>\n",
       "      <th>ts_event<\/th>\n",
       "      <th>action<\/th>\n",
       "      <th>side<\/th>\n",
       "      <th>price<\/th>\n",
       "      <th>size<\/th>\n",
       "      <th>order_id<\/th>\n",
       "      <th>symbol<\/th>\n",
       "      <th>bid_px_00_minus<\/th>\n",
       "      <th>ask_px_00_minus<\/th>\n",
       "      <th>bid_sz_00_minus<\/th>\n",
       "      <th>...<\/th>\n",
       "      <th>non_bbo_deep_depth_remove_cancel_1<\/th>\n",
       "      <th>non_bbo_deep_depth_remove_cancel_2<\/th>\n",
       "      <th>non_bbo_deep_depth_remove_cancel_3<\/th>\n",
       "      <th>non_bbo_deep_depth_remove_cancel_4<\/th>\n",
       "      <th>non_bbo_deep_depth_remove_cancel_5<\/th>\n",
       "      <th>px_imp_0<\/th>\n",
       "      <th>px_imp_1<\/th>\n",
       "      <th>px_imp_5<\/th>\n",
       "      <th>px_imp_10<\/th>\n",
       "      <th>px_imp_20<\/th>\n",
       "    <\/tr>\n",
       "  <\/thead>\n",
       "  <tbody>\n",
       "    <tr>\n",
       "      <th>33<\/th>\n",
       "      <td>2024-11-25 09:40:01.294130833-05:00<\/td>\n",
       "      <td>C<\/td>\n",
       "      <td>A<\/td>\n",
       "      <td>262.51<\/td>\n",
       "      <td>100<\/td>\n",
       "      <td>83800142<\/td>\n",
       "      <td>JPM<\/td>\n",
       "      <td>250.53<\/td>\n",
       "      <td>250.66<\/td>\n",
       "      <td>400.0<\/td>\n",
       "      <td>...<\/td>\n",
       "      <td>0.0<\/td>\n",
       "      <td>0.0<\/td>\n",
       "      <td>0.0<\/td>\n",
       "      <td>0.0<\/td>\n",
       "      <td>0.0<\/td>\n",
       "      <td>0.0<\/td>\n",
       "      <td>0.0<\/td>\n",
       "      <td>0.0<\/td>\n",
       "      <td>0.0<\/td>\n",
       "      <td>0.0<\/td>\n",
       "    <\/tr>\n",
       "    <tr>\n",
       "      <th>34<\/th>\n",
       "      <td>2024-11-25 09:40:01.294130833-05:00<\/td>\n",
       "      <td>A<\/td>\n",
       "      <td>A<\/td>\n",
       "      <td>262.52<\/td>\n",
       "      <td>100<\/td>\n",
       "      <td>84009914<\/td>\n",
       "      <td>JPM<\/td>\n",
       "      <td>250.53<\/td>\n",
       "      <td>250.66<\/td>\n",
       "      <td>400.0<\/td>\n",
       "      <td>...<\/td>\n",
       "      <td>1.0<\/td>\n",
       "      <td>1.0<\/td>\n",
       "      <td>1.0<\/td>\n",
       "      <td>1.0<\/td>\n",
       "      <td>1.0<\/td>\n",
       "      <td>0.0<\/td>\n",
       "      <td>0.0<\/td>\n",
       "      <td>0.0<\/td>\n",
       "      <td>0.0<\/td>\n",
       "      <td>0.0<\/td>\n",
       "    <\/tr>\n",
       "    <tr>\n",
       "      <th>35<\/th>\n",
       "      <td>2024-11-25 09:40:01.297757492-05:00<\/td>\n",
       "      <td>C<\/td>\n",
       "      <td>B<\/td>\n",
       "      <td>250.22<\/td>\n",
       "      <td>1<\/td>\n",
       "      <td>82876718<\/td>\n",
       "      <td>JPM<\/td>\n",
       "      <td>250.53<\/td>\n",
       "      <td>250.66<\/td>\n",
       "      <td>400.0<\/td>\n",
       "      <td>...<\/td>\n",
       "      <td>0.0<\/td>\n",
       "      <td>1.0<\/td>\n",
       "      <td>1.0<\/td>\n",
       "      <td>1.0<\/td>\n",
       "      <td>1.0<\/td>\n",
       "      <td>0.0<\/td>\n",
       "      <td>0.0<\/td>\n",
       "      <td>0.0<\/td>\n",
       "      <td>0.0<\/td>\n",
       "      <td>0.0<\/td>\n",
       "    <\/tr>\n",
       "    <tr>\n",
       "      <th>36<\/th>\n",
       "      <td>2024-11-25 09:40:01.299286727-05:00<\/td>\n",
       "      <td>A<\/td>\n",
       "      <td>A<\/td>\n",
       "      <td>250.66<\/td>\n",
       "      <td>600<\/td>\n",
       "      <td>84010242<\/td>\n",
       "      <td>JPM<\/td>\n",
       "      <td>250.53<\/td>\n",
       "      <td>250.66<\/td>\n",
       "      <td>400.0<\/td>\n",
       "      <td>...<\/td>\n",
       "      <td>1.0<\/td>\n",
       "      <td>1.0<\/td>\n",
       "      <td>2.0<\/td>\n",
       "      <td>2.0<\/td>\n",
       "      <td>2.0<\/td>\n",
       "      <td>0.0<\/td>\n",
       "      <td>0.0<\/td>\n",
       "      <td>0.0<\/td>\n",
       "      <td>0.0<\/td>\n",
       "      <td>0.0<\/td>\n",
       "    <\/tr>\n",
       "    <tr>\n",
       "      <th>37<\/th>\n",
       "      <td>2024-11-25 09:40:01.300300680-05:00<\/td>\n",
       "      <td>C<\/td>\n",
       "      <td>A<\/td>\n",
       "      <td>262.52<\/td>\n",
       "      <td>100<\/td>\n",
       "      <td>84009914<\/td>\n",
       "      <td>JPM<\/td>\n",
       "      <td>250.53<\/td>\n",
       "      <td>250.66<\/td>\n",
       "      <td>400.0<\/td>\n",
       "      <td>...<\/td>\n",
       "      <td>0.0<\/td>\n",
       "      <td>1.0<\/td>\n",
       "      <td>1.0<\/td>\n",
       "      <td>2.0<\/td>\n",
       "      <td>2.0<\/td>\n",
       "      <td>0.0<\/td>\n",
       "      <td>0.0<\/td>\n",
       "      <td>0.0<\/td>\n",
       "      <td>0.0<\/td>\n",
       "      <td>0.0<\/td>\n",
       "    <\/tr>\n",
       "  <\/tbody>\n",
       "<\/table>\n",
       "<p>5 rows × 210 columns<\/p>\n",
       "<\/div>"
      ]
     },
     "metadata":{},
     "output_type":"display_data"
    }
   ],
   "metadata":{
    "datalore":{
     "node_id":"0KhXsmE0ka182jTiaWADNf",
     "type":"CODE",
     "hide_input_from_viewers":true,
     "hide_output_from_viewers":true
    }
   }
  },
  {
   "cell_type":"markdown",
   "source":[
    "## Model Training and Prediction with Lag Evaluation\n",
    "\n",
    "**Purpose**: Train multiple regression models using different libraries (LightGBM, cuML RandomForest, XGBoost, Ridge, and ElasticNet). Then, generate predictions on two test datasets and prepare the results for evaluation. Define a function to assess how model performance changes as more lagged features are included. This helps in understanding the marginal benefit of adding additional lags."
   ],
   "attachments":{},
   "metadata":{
    "datalore":{
     "node_id":"Dnk9V9BxVKUYdg2o5TEbd6",
     "type":"MD",
     "hide_input_from_viewers":true,
     "hide_output_from_viewers":true
    }
   }
  },
  {
   "cell_type":"code",
   "source":[
    "def feat_lag_evaluator(lags, targ_cols=['px_imp_5'], event_shift=None):\n",
    "    \"\"\"\n",
    "    Take some number of lags as input. Use this many feature lags when training and evaluating the model. \n",
    "    The goal is to see how performance varies with number of lags.\n",
    "    \"\"\"\n",
    "\n",
    "    pred_cols = [\n",
    "        'bid', 'spread_minus', 'bbo_moving_trade', 'non_bbo_moving_trade', 'bbo_improving_limit',\n",
    "        'bbo_worsening_cancel', 'bbo_depth_add_limit', 'bbo_depth_remove_cancel',\n",
    "        'non_bbo_depth_add_limit', 'non_bbo_depth_remove_cancel', 'non_bbo_deep_depth_add_limit',\n",
    "        'non_bbo_deep_depth_remove_cancel', 'bbo_depth_imbalance_minus', \n",
    "        'non_bbo_depth_imbalance_minus', 'non_bbo_deep_depth_imbalance_minus', \n",
    "        'bbo_queue_length_immbalance_minus', 'block_2', 'block_3', 'block_4', 'block_5', 'block_6'\n",
    "    ]\n",
    "\n",
    "    OB_FEATURES = [\n",
    "        'bbo_moving_trade', 'non_bbo_moving_trade', 'bbo_improving_limit',\n",
    "        'bbo_worsening_cancel', 'bbo_depth_add_limit', 'bbo_depth_remove_cancel',\n",
    "        'non_bbo_depth_add_limit', 'non_bbo_depth_remove_cancel', \n",
    "        'non_bbo_deep_depth_add_limit', 'non_bbo_deep_depth_remove_cancel'\n",
    "    ]\n",
    "\n",
    "    lag_shift_cols = []\n",
    "    for feat in OB_FEATURES:\n",
    "        for r in range(1, lags+1):\n",
    "            col_name = f'{feat}_{r}'\n",
    "            pred_cols.append(col_name)\n",
    "            lag_shift_cols.append(col_name)\n",
    "\n",
    "    X_train = pd.read_parquet('\/data\/workspace_files\/train_nov\/fourth_week_df.parquet', columns=pred_cols)\n",
    "    y_train = pd.read_parquet('\/data\/workspace_files\/train_nov\/fourth_week_df.parquet', columns=targ_cols)\n",
    "\n",
    "    X_test1 = pd.read_parquet('\/data\/workspace_files\/test_dec\/first_week_df.parquet', columns=pred_cols)\n",
    "    y_test1 = pd.read_parquet('\/data\/workspace_files\/test_dec\/first_week_df.parquet', columns=targ_cols)\n",
    "\n",
    "    X_test2 = pd.read_parquet('\/data\/workspace_files\/test_dec\/second_week_df.parquet', columns=pred_cols)\n",
    "    y_test2 = pd.read_parquet('\/data\/workspace_files\/test_dec\/second_week_df.parquet', columns=targ_cols)\n",
    "\n",
    "    print('---Loaded Data---')\n",
    "\n",
    "\n",
    "    if event_shift is not None:\n",
    "        for df in [X_train, X_test1, X_test2]:\n",
    "            df[lag_shift_cols] = df[lag_shift_cols].shift(event_shift)\n",
    "        \n",
    "        X_train = X_train.iloc[event_shift:].reset_index(drop=True)\n",
    "        y_train = y_train.iloc[event_shift:].reset_index(drop=True)\n",
    "        \n",
    "        X_test1 = X_test1.iloc[event_shift:].reset_index(drop=True)\n",
    "        y_test1 = y_test1.iloc[event_shift:].reset_index(drop=True)\n",
    "        \n",
    "        X_test2 = X_test2.iloc[event_shift:].reset_index(drop=True)\n",
    "        y_test2 = y_test2.iloc[event_shift:].reset_index(drop=True)\n",
    "\n",
    "    # Train models\n",
    "    gbt = LGBMRegressor(boosting_type='gbdt', n_estimators=100, max_depth=20,\n",
    "                         learning_rate=0.05, num_leaves=31, device='gpu', random_state=42)\n",
    "    gbt.fit(X_train, y_train)\n",
    "\n",
    "    rf = cuRF(n_estimators=200, max_depth=10, random_state=42, n_streams=1)\n",
    "    rf.fit(X_train, y_train)\n",
    "\n",
    "    dtrain = xgb.DMatrix(X_train, label=y_train)\n",
    "    boost_params = {\n",
    "        'max_depth': 5,\n",
    "        'learning_rate': 0.05,\n",
    "        'min_child_weight': 1,\n",
    "        'subsample': 1.0,\n",
    "        'tree_method': 'hist',\n",
    "        'n_jobs': -1,\n",
    "        'booster': 'gbtree',\n",
    "        'device': 'cpu',\n",
    "        'objective': 'reg:squarederror',\n",
    "        'seed': 42\n",
    "    }\n",
    "    booster = xgb.train(boost_params, dtrain, num_boost_round=100)\n",
    "\n",
    "    scaler = StandardScaler()\n",
    "    X_train = scaler.fit_transform(X_train)\n",
    "\n",
    "    ridge = Ridge(alpha=1000)\n",
    "    ridge.fit(X_train, y_train)\n",
    "\n",
    "    enet = ElasticNet(alpha=1, l1_ratio=0.3)\n",
    "    enet.fit(X_train, y_train)\n",
    "\n",
    "    print('---Trained Models---')\n",
    "\n",
    "    # Get predictions for first test week\n",
    "    gbt_preds1 = gbt.predict(X_test1)\n",
    "    rf_preds1 = rf.predict(X_test1)\n",
    "    dtest1 = xgb.DMatrix(X_test1, label=y_test1.values)\n",
    "    xgb_preds1 = booster.predict(dtest1)\n",
    "    X_test1_scaled = scaler.transform(X_test1)\n",
    "    ridge_preds1 = ridge.predict(X_test1_scaled)\n",
    "    enet_preds1 = enet.predict(X_test1_scaled)\n",
    "\n",
    "    # Get predictions for second test week\n",
    "    gbt_preds2 = gbt.predict(X_test2)\n",
    "    rf_preds2 = rf.predict(X_test2)\n",
    "    dtest2 = xgb.DMatrix(X_test2, label=y_test2.values)\n",
    "    xgb_preds2 = booster.predict(dtest2)\n",
    "    X_test2_scaled = scaler.transform(X_test2)\n",
    "    ridge_preds2 = ridge.predict(X_test2_scaled)\n",
    "    enet_preds2 = enet.predict(X_test2_scaled)\n",
    "\n",
    "    print('---Made Predictions---')\n",
    "\n",
    "    # Aggregate predictions and true values across both weeks\n",
    "    gbt_preds = np.concatenate([gbt_preds1, gbt_preds2])\n",
    "    rf_preds = np.concatenate([rf_preds1, rf_preds2])\n",
    "    xgb_preds = np.concatenate([xgb_preds1, xgb_preds2])\n",
    "    ridge_preds = np.concatenate([ridge_preds1, ridge_preds2])\n",
    "    enet_preds = np.concatenate([enet_preds1, enet_preds2])\n",
    "    y_true = pd.concat([y_test1, y_test2])\n",
    "\n",
    "    del X_train, X_test1, X_test2\n",
    "    cp.get_default_memory_pool().free_all_blocks()\n",
    "    cp.get_default_pinned_memory_pool().free_all_blocks()\n",
    "    cp.cuda.Stream.null.synchronize()\n",
    "    gc.collect()\n",
    "\n",
    "    # Calculate overall metrics\n",
    "    gbt_mse = mean_squared_error(y_true, gbt_preds)\n",
    "    gbt_r2 = r2_score(y_true, gbt_preds)\n",
    "\n",
    "    rf_mse = mean_squared_error(y_true, rf_preds)\n",
    "    rf_r2 = r2_score(y_true, rf_preds)\n",
    "\n",
    "    xgb_mse = mean_squared_error(y_true, xgb_preds)\n",
    "    xgb_r2 = r2_score(y_true, xgb_preds)\n",
    "\n",
    "    ridge_mse = mean_squared_error(y_true, ridge_preds)\n",
    "    ridge_r2 = r2_score(y_true, ridge_preds)\n",
    "\n",
    "    enet_mse = mean_squared_error(y_true, enet_preds)\n",
    "    enet_r2 = r2_score(y_true, enet_preds)\n",
    "\n",
    "    results_dict = {\n",
    "        'Model': ['GBT', 'RF', 'XGB', 'Ridge', 'ElasticNet'],\n",
    "        'MSE': [gbt_mse, rf_mse, xgb_mse, ridge_mse, enet_mse],\n",
    "        'R2': [gbt_r2, rf_r2, xgb_r2, ridge_r2, enet_r2],\n",
    "        'n_lags': [lags] * 5\n",
    "    }\n",
    "\n",
    "    results_df = pd.DataFrame(results_dict)\n",
    "\n",
    "    print('---All Done :)---')\n",
    "\n",
    "    return results_df"
   ],
   "execution_count":8,
   "outputs":[],
   "metadata":{
    "datalore":{
     "node_id":"wqF8rVLBEE0EKDPvvicQiH",
     "type":"CODE",
     "hide_input_from_viewers":true,
     "hide_output_from_viewers":true
    }
   }
  },
  {
   "cell_type":"code",
   "source":[
    "lag1 = feat_lag_evaluator(lags=1, targ_cols=['px_imp_5'])\n",
    "lag1"
   ],
   "execution_count":9,
   "outputs":[
    {
     "name":"stdout",
     "text":[
      "---Loaded Data---\n",
      "[LightGBM] [Info] This is the GPU trainer!!\n",
      "[LightGBM] [Info] Total Bins 1136\n",
      "[LightGBM] [Info] Number of data points in the train set: 11451889, number of used features: 31\n",
      "[LightGBM] [Info] Using GPU Device: Tesla T4, Vendor: NVIDIA Corporation\n",
      "[LightGBM] [Info] Compiling OpenCL Kernel with 256 bins...\n",
      "[LightGBM] [Info] GPU programs have been built\n",
      "[LightGBM] [Info] Size of histogram bin entry: 8\n",
      "[LightGBM] [Info] 9 dense feature groups (131.06 MB) transferred to GPU in 0.182033 secs. 0 sparse feature groups\n",
      "[LightGBM] [Info] Start training from score 0.000000\n",
      "---Trained Models---\n",
      "---Made Predictions---\n",
      "---All Done :)---\n"
     ],
     "output_type":"stream"
    },
    {
     "name":"stderr",
     "text":[
      "1 warning generated.\n",
      "1 warning generated.\n",
      "1 warning generated.\n",
      "1 warning generated.\n",
      "1 warning generated.\n",
      "1 warning generated.\n",
      "1 warning generated.\n",
      "1 warning generated.\n",
      "1 warning generated.\n",
      "1 warning generated.\n",
      "1 warning generated.\n",
      "1 warning generated.\n",
      "1 warning generated.\n",
      "1 warning generated.\n",
      "1 warning generated.\n",
      "1 warning generated.\n",
      "1 warning generated.\n",
      "1 warning generated.\n",
      "1 warning generated.\n",
      "1 warning generated.\n",
      "1 warning generated.\n",
      "1 warning generated.\n",
      "1 warning generated.\n",
      "1 warning generated.\n",
      "1 warning generated.\n",
      "1 warning generated.\n",
      "1 warning generated.\n",
      "1 warning generated.\n",
      "1 warning generated.\n",
      "1 warning generated.\n",
      "1 warning generated.\n",
      "1 warning generated.\n",
      "1 warning generated.\n",
      "\/opt\/python\/envs\/py311\/lib\/python3.11\/site-packages\/cuml\/internals\/api_decorators.py:188: UserWarning: To use pickling first train using float32 data to fit the estimator\n",
      "  ret = func(*args, **kwargs)\n"
     ],
     "output_type":"stream"
    },
    {
     "data":{
      "text\/html":[
       "<div>\n",
       "<style scoped>\n",
       "    .dataframe tbody tr th:only-of-type {\n",
       "        vertical-align: middle;\n",
       "    }\n",
       "\n",
       "    .dataframe tbody tr th {\n",
       "        vertical-align: top;\n",
       "    }\n",
       "\n",
       "    .dataframe thead th {\n",
       "        text-align: right;\n",
       "    }\n",
       "<\/style>\n",
       "<table border=\"1\" class=\"dataframe\">\n",
       "  <thead>\n",
       "    <tr style=\"text-align: right;\">\n",
       "      <th><\/th>\n",
       "      <th>Model<\/th>\n",
       "      <th>MSE<\/th>\n",
       "      <th>R2<\/th>\n",
       "      <th>n_lags<\/th>\n",
       "    <\/tr>\n",
       "  <\/thead>\n",
       "  <tbody>\n",
       "    <tr>\n",
       "      <th>0<\/th>\n",
       "      <td>GBT<\/td>\n",
       "      <td>8.133916e-08<\/td>\n",
       "      <td>0.082886<\/td>\n",
       "      <td>1<\/td>\n",
       "    <\/tr>\n",
       "    <tr>\n",
       "      <th>1<\/th>\n",
       "      <td>RF<\/td>\n",
       "      <td>8.826085e-08<\/td>\n",
       "      <td>0.004843<\/td>\n",
       "      <td>1<\/td>\n",
       "    <\/tr>\n",
       "    <tr>\n",
       "      <th>2<\/th>\n",
       "      <td>XGB<\/td>\n",
       "      <td>8.232761e-08<\/td>\n",
       "      <td>0.071739<\/td>\n",
       "      <td>1<\/td>\n",
       "    <\/tr>\n",
       "    <tr>\n",
       "      <th>3<\/th>\n",
       "      <td>Ridge<\/td>\n",
       "      <td>8.816842e-08<\/td>\n",
       "      <td>0.005885<\/td>\n",
       "      <td>1<\/td>\n",
       "    <\/tr>\n",
       "    <tr>\n",
       "      <th>4<\/th>\n",
       "      <td>ElasticNet<\/td>\n",
       "      <td>8.869051e-08<\/td>\n",
       "      <td>-0.000002<\/td>\n",
       "      <td>1<\/td>\n",
       "    <\/tr>\n",
       "  <\/tbody>\n",
       "<\/table>\n",
       "<\/div>"
      ]
     },
     "metadata":{},
     "output_type":"display_data"
    }
   ],
   "metadata":{
    "datalore":{
     "node_id":"XYltbfzoJC3WxbIVs4rmkN",
     "type":"CODE",
     "hide_input_from_viewers":true,
     "hide_output_from_viewers":true
    }
   }
  },
  {
   "cell_type":"code",
   "source":[
    "lag2 = feat_lag_evaluator(lags=2, targ_cols=['px_imp_5'])\n",
    "lag2"
   ],
   "execution_count":10,
   "outputs":[
    {
     "name":"stdout",
     "text":[
      "---Loaded Data---\n",
      "[LightGBM] [Info] This is the GPU trainer!!\n",
      "[LightGBM] [Info] Total Bins 1166\n",
      "[LightGBM] [Info] Number of data points in the train set: 11451889, number of used features: 41\n",
      "[LightGBM] [Info] Using GPU Device: Tesla T4, Vendor: NVIDIA Corporation\n",
      "[LightGBM] [Info] Compiling OpenCL Kernel with 256 bins...\n",
      "[LightGBM] [Info] GPU programs have been built\n",
      "[LightGBM] [Info] Size of histogram bin entry: 8\n",
      "[LightGBM] [Info] 9 dense feature groups (131.06 MB) transferred to GPU in 0.151181 secs. 1 sparse feature groups\n",
      "[LightGBM] [Info] Start training from score 0.000000\n",
      "---Trained Models---\n",
      "---Made Predictions---\n",
      "---All Done :)---\n"
     ],
     "output_type":"stream"
    },
    {
     "name":"stderr",
     "text":[
      "\/opt\/python\/envs\/py311\/lib\/python3.11\/site-packages\/cuml\/internals\/api_decorators.py:188: UserWarning: To use pickling first train using float32 data to fit the estimator\n",
      "  ret = func(*args, **kwargs)\n"
     ],
     "output_type":"stream"
    },
    {
     "data":{
      "text\/html":[
       "<div>\n",
       "<style scoped>\n",
       "    .dataframe tbody tr th:only-of-type {\n",
       "        vertical-align: middle;\n",
       "    }\n",
       "\n",
       "    .dataframe tbody tr th {\n",
       "        vertical-align: top;\n",
       "    }\n",
       "\n",
       "    .dataframe thead th {\n",
       "        text-align: right;\n",
       "    }\n",
       "<\/style>\n",
       "<table border=\"1\" class=\"dataframe\">\n",
       "  <thead>\n",
       "    <tr style=\"text-align: right;\">\n",
       "      <th><\/th>\n",
       "      <th>Model<\/th>\n",
       "      <th>MSE<\/th>\n",
       "      <th>R2<\/th>\n",
       "      <th>n_lags<\/th>\n",
       "    <\/tr>\n",
       "  <\/thead>\n",
       "  <tbody>\n",
       "    <tr>\n",
       "      <th>0<\/th>\n",
       "      <td>GBT<\/td>\n",
       "      <td>8.123897e-08<\/td>\n",
       "      <td>0.084016<\/td>\n",
       "      <td>2<\/td>\n",
       "    <\/tr>\n",
       "    <tr>\n",
       "      <th>1<\/th>\n",
       "      <td>RF<\/td>\n",
       "      <td>8.801296e-08<\/td>\n",
       "      <td>0.007638<\/td>\n",
       "      <td>2<\/td>\n",
       "    <\/tr>\n",
       "    <tr>\n",
       "      <th>2<\/th>\n",
       "      <td>XGB<\/td>\n",
       "      <td>8.226984e-08<\/td>\n",
       "      <td>0.072391<\/td>\n",
       "      <td>2<\/td>\n",
       "    <\/tr>\n",
       "    <tr>\n",
       "      <th>3<\/th>\n",
       "      <td>Ridge<\/td>\n",
       "      <td>8.816938e-08<\/td>\n",
       "      <td>0.005874<\/td>\n",
       "      <td>2<\/td>\n",
       "    <\/tr>\n",
       "    <tr>\n",
       "      <th>4<\/th>\n",
       "      <td>ElasticNet<\/td>\n",
       "      <td>8.869051e-08<\/td>\n",
       "      <td>-0.000002<\/td>\n",
       "      <td>2<\/td>\n",
       "    <\/tr>\n",
       "  <\/tbody>\n",
       "<\/table>\n",
       "<\/div>"
      ]
     },
     "metadata":{},
     "output_type":"display_data"
    }
   ],
   "metadata":{
    "datalore":{
     "node_id":"27b5m2VRMmdiXs6ZY43enU",
     "type":"CODE",
     "hide_input_from_viewers":true,
     "hide_output_from_viewers":true
    }
   }
  },
  {
   "cell_type":"code",
   "source":[
    "lag3 = feat_lag_evaluator(lags=3, targ_cols=['px_imp_5'])\n",
    "lag3"
   ],
   "execution_count":11,
   "outputs":[
    {
     "name":"stdout",
     "text":[
      "---Loaded Data---\n",
      "[LightGBM] [Info] This is the GPU trainer!!\n",
      "[LightGBM] [Info] Total Bins 1206\n",
      "[LightGBM] [Info] Number of data points in the train set: 11451889, number of used features: 51\n",
      "[LightGBM] [Info] Using GPU Device: Tesla T4, Vendor: NVIDIA Corporation\n",
      "[LightGBM] [Info] Compiling OpenCL Kernel with 256 bins...\n",
      "[LightGBM] [Info] GPU programs have been built\n",
      "[LightGBM] [Info] Size of histogram bin entry: 8\n",
      "[LightGBM] [Info] 11 dense feature groups (131.06 MB) transferred to GPU in 0.166117 secs. 1 sparse feature groups\n",
      "[LightGBM] [Info] Start training from score 0.000000\n",
      "---Trained Models---\n",
      "---Made Predictions---\n",
      "---All Done :)---\n"
     ],
     "output_type":"stream"
    },
    {
     "name":"stderr",
     "text":[
      "\/opt\/python\/envs\/py311\/lib\/python3.11\/site-packages\/cuml\/internals\/api_decorators.py:188: UserWarning: To use pickling first train using float32 data to fit the estimator\n",
      "  ret = func(*args, **kwargs)\n"
     ],
     "output_type":"stream"
    },
    {
     "data":{
      "text\/html":[
       "<div>\n",
       "<style scoped>\n",
       "    .dataframe tbody tr th:only-of-type {\n",
       "        vertical-align: middle;\n",
       "    }\n",
       "\n",
       "    .dataframe tbody tr th {\n",
       "        vertical-align: top;\n",
       "    }\n",
       "\n",
       "    .dataframe thead th {\n",
       "        text-align: right;\n",
       "    }\n",
       "<\/style>\n",
       "<table border=\"1\" class=\"dataframe\">\n",
       "  <thead>\n",
       "    <tr style=\"text-align: right;\">\n",
       "      <th><\/th>\n",
       "      <th>Model<\/th>\n",
       "      <th>MSE<\/th>\n",
       "      <th>R2<\/th>\n",
       "      <th>n_lags<\/th>\n",
       "    <\/tr>\n",
       "  <\/thead>\n",
       "  <tbody>\n",
       "    <tr>\n",
       "      <th>0<\/th>\n",
       "      <td>GBT<\/td>\n",
       "      <td>8.143717e-08<\/td>\n",
       "      <td>0.081781<\/td>\n",
       "      <td>3<\/td>\n",
       "    <\/tr>\n",
       "    <tr>\n",
       "      <th>1<\/th>\n",
       "      <td>RF<\/td>\n",
       "      <td>8.818966e-08<\/td>\n",
       "      <td>0.005645<\/td>\n",
       "      <td>3<\/td>\n",
       "    <\/tr>\n",
       "    <tr>\n",
       "      <th>2<\/th>\n",
       "      <td>XGB<\/td>\n",
       "      <td>8.230541e-08<\/td>\n",
       "      <td>0.071990<\/td>\n",
       "      <td>3<\/td>\n",
       "    <\/tr>\n",
       "    <tr>\n",
       "      <th>3<\/th>\n",
       "      <td>Ridge<\/td>\n",
       "      <td>8.816969e-08<\/td>\n",
       "      <td>0.005870<\/td>\n",
       "      <td>3<\/td>\n",
       "    <\/tr>\n",
       "    <tr>\n",
       "      <th>4<\/th>\n",
       "      <td>ElasticNet<\/td>\n",
       "      <td>8.869051e-08<\/td>\n",
       "      <td>-0.000002<\/td>\n",
       "      <td>3<\/td>\n",
       "    <\/tr>\n",
       "  <\/tbody>\n",
       "<\/table>\n",
       "<\/div>"
      ]
     },
     "metadata":{},
     "output_type":"display_data"
    }
   ],
   "metadata":{
    "datalore":{
     "node_id":"OJo6S241INaFJIy2DAqOfw",
     "type":"CODE",
     "hide_input_from_viewers":true,
     "hide_output_from_viewers":true
    }
   }
  },
  {
   "cell_type":"markdown",
   "source":[
    "## Analysis of Different Time Frames \n",
    "\n",
    "**Purpose**: This section evaluates model performance for various price impact targets, such as immediate impact (px_imp_0) and permanent impact (px_imp_20). By comparing results across different targets (e.g., px_imp_0, px_imp_1, px_imp_5, px_imp_10, and px_imp_20), you can investigate whether the most predictive features and overall performance differ when forecasting short-term versus long-term price impacts.\n"
   ],
   "attachments":{},
   "metadata":{
    "datalore":{
     "node_id":"plrXsHKT1LOglhH2zGIAuP",
     "type":"MD",
     "hide_input_from_viewers":true,
     "hide_output_from_viewers":true
    }
   }
  },
  {
   "cell_type":"code",
   "source":[
    "px0 = feat_lag_evaluator(lags=3, targ_cols=['px_imp_0'])\n",
    "px0"
   ],
   "execution_count":8,
   "outputs":[
    {
     "name":"stdout",
     "text":[
      "---Loaded Data---\n",
      "[LightGBM] [Info] This is the GPU trainer!!\n",
      "[LightGBM] [Info] Total Bins 1206\n",
      "[LightGBM] [Info] Number of data points in the train set: 11451889, number of used features: 51\n",
      "[LightGBM] [Info] Using GPU Device: Tesla T4, Vendor: NVIDIA Corporation\n",
      "[LightGBM] [Info] Compiling OpenCL Kernel with 256 bins...\n",
      "[LightGBM] [Info] GPU programs have been built\n",
      "[LightGBM] [Info] Size of histogram bin entry: 8\n",
      "[LightGBM] [Info] 11 dense feature groups (131.06 MB) transferred to GPU in 0.167654 secs. 1 sparse feature groups\n",
      "[LightGBM] [Info] Start training from score 0.000000\n",
      "---Trained Models---\n",
      "---Made Predictions---\n",
      "---All Done :)---\n"
     ],
     "output_type":"stream"
    },
    {
     "name":"stderr",
     "text":[
      "1 warning generated.\n",
      "1 warning generated.\n",
      "1 warning generated.\n",
      "1 warning generated.\n",
      "1 warning generated.\n",
      "1 warning generated.\n",
      "1 warning generated.\n",
      "1 warning generated.\n",
      "1 warning generated.\n",
      "1 warning generated.\n",
      "1 warning generated.\n",
      "1 warning generated.\n",
      "1 warning generated.\n",
      "1 warning generated.\n",
      "1 warning generated.\n",
      "1 warning generated.\n",
      "1 warning generated.\n",
      "1 warning generated.\n",
      "1 warning generated.\n",
      "1 warning generated.\n",
      "1 warning generated.\n",
      "1 warning generated.\n",
      "1 warning generated.\n",
      "1 warning generated.\n",
      "1 warning generated.\n",
      "1 warning generated.\n",
      "1 warning generated.\n",
      "1 warning generated.\n",
      "1 warning generated.\n",
      "1 warning generated.\n",
      "1 warning generated.\n",
      "1 warning generated.\n",
      "1 warning generated.\n",
      "\/opt\/python\/envs\/py311\/lib\/python3.11\/site-packages\/cuml\/internals\/api_decorators.py:188: UserWarning: To use pickling first train using float32 data to fit the estimator\n",
      "  ret = func(*args, **kwargs)\n"
     ],
     "output_type":"stream"
    },
    {
     "data":{
      "text\/html":[
       "<div>\n",
       "<style scoped>\n",
       "    .dataframe tbody tr th:only-of-type {\n",
       "        vertical-align: middle;\n",
       "    }\n",
       "\n",
       "    .dataframe tbody tr th {\n",
       "        vertical-align: top;\n",
       "    }\n",
       "\n",
       "    .dataframe thead th {\n",
       "        text-align: right;\n",
       "    }\n",
       "<\/style>\n",
       "<table border=\"1\" class=\"dataframe\">\n",
       "  <thead>\n",
       "    <tr style=\"text-align: right;\">\n",
       "      <th><\/th>\n",
       "      <th>Model<\/th>\n",
       "      <th>MSE<\/th>\n",
       "      <th>R2<\/th>\n",
       "      <th>n_lags<\/th>\n",
       "    <\/tr>\n",
       "  <\/thead>\n",
       "  <tbody>\n",
       "    <tr>\n",
       "      <th>0<\/th>\n",
       "      <td>GBT<\/td>\n",
       "      <td>1.194099e-08<\/td>\n",
       "      <td>0.196305<\/td>\n",
       "      <td>3<\/td>\n",
       "    <\/tr>\n",
       "    <tr>\n",
       "      <th>1<\/th>\n",
       "      <td>RF<\/td>\n",
       "      <td>1.476815e-08<\/td>\n",
       "      <td>0.006022<\/td>\n",
       "      <td>3<\/td>\n",
       "    <\/tr>\n",
       "    <tr>\n",
       "      <th>2<\/th>\n",
       "      <td>XGB<\/td>\n",
       "      <td>1.251483e-08<\/td>\n",
       "      <td>0.157684<\/td>\n",
       "      <td>3<\/td>\n",
       "    <\/tr>\n",
       "    <tr>\n",
       "      <th>3<\/th>\n",
       "      <td>Ridge<\/td>\n",
       "      <td>1.481508e-08<\/td>\n",
       "      <td>0.002863<\/td>\n",
       "      <td>3<\/td>\n",
       "    <\/tr>\n",
       "    <tr>\n",
       "      <th>4<\/th>\n",
       "      <td>ElasticNet<\/td>\n",
       "      <td>1.485792e-08<\/td>\n",
       "      <td>-0.000020<\/td>\n",
       "      <td>3<\/td>\n",
       "    <\/tr>\n",
       "  <\/tbody>\n",
       "<\/table>\n",
       "<\/div>"
      ]
     },
     "metadata":{},
     "output_type":"display_data"
    }
   ],
   "metadata":{
    "datalore":{
     "node_id":"1jeIAdph7FuA5w2rPPo6lF",
     "type":"CODE",
     "hide_input_from_viewers":true,
     "hide_output_from_viewers":true
    }
   }
  },
  {
   "cell_type":"code",
   "source":[
    "px0.to_parquet('\/data\/workspace_files\/Metrics\/General\/px0_fits')"
   ],
   "execution_count":9,
   "outputs":[],
   "metadata":{
    "datalore":{
     "node_id":"zlR8659RQExjg81Hgg00wg",
     "type":"CODE",
     "hide_input_from_viewers":true,
     "hide_output_from_viewers":true
    }
   }
  },
  {
   "cell_type":"code",
   "source":[
    "px1 = feat_lag_evaluator(lags=3, targ_cols=['px_imp_1'])\n",
    "px1"
   ],
   "execution_count":9,
   "outputs":[
    {
     "name":"stdout",
     "text":[
      "---Loaded Data---\n",
      "[LightGBM] [Info] This is the GPU trainer!!\n",
      "[LightGBM] [Info] Total Bins 1206\n",
      "[LightGBM] [Info] Number of data points in the train set: 11451889, number of used features: 51\n",
      "[LightGBM] [Info] Using GPU Device: Tesla T4, Vendor: NVIDIA Corporation\n",
      "[LightGBM] [Info] Compiling OpenCL Kernel with 256 bins...\n",
      "[LightGBM] [Info] GPU programs have been built\n",
      "[LightGBM] [Info] Size of histogram bin entry: 8\n",
      "[LightGBM] [Info] 11 dense feature groups (131.06 MB) transferred to GPU in 0.165779 secs. 1 sparse feature groups\n",
      "[LightGBM] [Info] Start training from score 0.000000\n",
      "---Trained Models---\n",
      "---Made Predictions---\n",
      "---All Done :)---\n"
     ],
     "output_type":"stream"
    },
    {
     "name":"stderr",
     "text":[
      "\/opt\/python\/envs\/py311\/lib\/python3.11\/site-packages\/cuml\/internals\/api_decorators.py:188: UserWarning: To use pickling first train using float32 data to fit the estimator\n",
      "  ret = func(*args, **kwargs)\n"
     ],
     "output_type":"stream"
    },
    {
     "data":{
      "text\/html":[
       "<div>\n",
       "<style scoped>\n",
       "    .dataframe tbody tr th:only-of-type {\n",
       "        vertical-align: middle;\n",
       "    }\n",
       "\n",
       "    .dataframe tbody tr th {\n",
       "        vertical-align: top;\n",
       "    }\n",
       "\n",
       "    .dataframe thead th {\n",
       "        text-align: right;\n",
       "    }\n",
       "<\/style>\n",
       "<table border=\"1\" class=\"dataframe\">\n",
       "  <thead>\n",
       "    <tr style=\"text-align: right;\">\n",
       "      <th><\/th>\n",
       "      <th>Model<\/th>\n",
       "      <th>MSE<\/th>\n",
       "      <th>R2<\/th>\n",
       "      <th>n_lags<\/th>\n",
       "    <\/tr>\n",
       "  <\/thead>\n",
       "  <tbody>\n",
       "    <tr>\n",
       "      <th>0<\/th>\n",
       "      <td>GBT<\/td>\n",
       "      <td>2.598249e-08<\/td>\n",
       "      <td>0.146412<\/td>\n",
       "      <td>3<\/td>\n",
       "    <\/tr>\n",
       "    <tr>\n",
       "      <th>1<\/th>\n",
       "      <td>RF<\/td>\n",
       "      <td>3.021622e-08<\/td>\n",
       "      <td>0.007324<\/td>\n",
       "      <td>3<\/td>\n",
       "    <\/tr>\n",
       "    <tr>\n",
       "      <th>2<\/th>\n",
       "      <td>XGB<\/td>\n",
       "      <td>2.644699e-08<\/td>\n",
       "      <td>0.131152<\/td>\n",
       "      <td>3<\/td>\n",
       "    <\/tr>\n",
       "    <tr>\n",
       "      <th>3<\/th>\n",
       "      <td>Ridge<\/td>\n",
       "      <td>3.032229e-08<\/td>\n",
       "      <td>0.003839<\/td>\n",
       "      <td>3<\/td>\n",
       "    <\/tr>\n",
       "    <tr>\n",
       "      <th>4<\/th>\n",
       "      <td>ElasticNet<\/td>\n",
       "      <td>3.043942e-08<\/td>\n",
       "      <td>-0.000009<\/td>\n",
       "      <td>3<\/td>\n",
       "    <\/tr>\n",
       "  <\/tbody>\n",
       "<\/table>\n",
       "<\/div>"
      ]
     },
     "metadata":{},
     "output_type":"display_data"
    }
   ],
   "metadata":{
    "datalore":{
     "node_id":"PDzZwnKIAkA00jr8rWSTik",
     "type":"CODE",
     "hide_input_from_viewers":true,
     "hide_output_from_viewers":true
    }
   }
  },
  {
   "cell_type":"code",
   "source":[
    "px1.to_parquet('\/data\/workspace_files\/Metrics\/General\/px1_fits')"
   ],
   "execution_count":null,
   "outputs":[],
   "metadata":{
    "datalore":{
     "node_id":"LtT4Ekt0IMWSjd40lHYkCD",
     "type":"CODE",
     "hide_input_from_viewers":true,
     "hide_output_from_viewers":true
    }
   }
  },
  {
   "cell_type":"code",
   "source":[
    "px5 = feat_lag_evaluator(lags=3, targ_cols=['px_imp_5'])\n",
    "px5"
   ],
   "execution_count":10,
   "outputs":[
    {
     "name":"stdout",
     "text":[
      "---Loaded Data---\n",
      "[LightGBM] [Info] This is the GPU trainer!!\n",
      "[LightGBM] [Info] Total Bins 1206\n",
      "[LightGBM] [Info] Number of data points in the train set: 11451889, number of used features: 51\n",
      "[LightGBM] [Info] Using GPU Device: Tesla T4, Vendor: NVIDIA Corporation\n",
      "[LightGBM] [Info] Compiling OpenCL Kernel with 256 bins...\n",
      "[LightGBM] [Info] GPU programs have been built\n",
      "[LightGBM] [Info] Size of histogram bin entry: 8\n",
      "[LightGBM] [Info] 11 dense feature groups (131.06 MB) transferred to GPU in 0.165578 secs. 1 sparse feature groups\n",
      "[LightGBM] [Info] Start training from score 0.000000\n",
      "---Trained Models---\n",
      "---Made Predictions---\n",
      "---All Done :)---\n"
     ],
     "output_type":"stream"
    },
    {
     "name":"stderr",
     "text":[
      "\/opt\/python\/envs\/py311\/lib\/python3.11\/site-packages\/cuml\/internals\/api_decorators.py:188: UserWarning: To use pickling first train using float32 data to fit the estimator\n",
      "  ret = func(*args, **kwargs)\n"
     ],
     "output_type":"stream"
    },
    {
     "data":{
      "text\/html":[
       "<div>\n",
       "<style scoped>\n",
       "    .dataframe tbody tr th:only-of-type {\n",
       "        vertical-align: middle;\n",
       "    }\n",
       "\n",
       "    .dataframe tbody tr th {\n",
       "        vertical-align: top;\n",
       "    }\n",
       "\n",
       "    .dataframe thead th {\n",
       "        text-align: right;\n",
       "    }\n",
       "<\/style>\n",
       "<table border=\"1\" class=\"dataframe\">\n",
       "  <thead>\n",
       "    <tr style=\"text-align: right;\">\n",
       "      <th><\/th>\n",
       "      <th>Model<\/th>\n",
       "      <th>MSE<\/th>\n",
       "      <th>R2<\/th>\n",
       "      <th>n_lags<\/th>\n",
       "    <\/tr>\n",
       "  <\/thead>\n",
       "  <tbody>\n",
       "    <tr>\n",
       "      <th>0<\/th>\n",
       "      <td>GBT<\/td>\n",
       "      <td>8.143717e-08<\/td>\n",
       "      <td>0.081781<\/td>\n",
       "      <td>3<\/td>\n",
       "    <\/tr>\n",
       "    <tr>\n",
       "      <th>1<\/th>\n",
       "      <td>RF<\/td>\n",
       "      <td>8.818983e-08<\/td>\n",
       "      <td>0.005643<\/td>\n",
       "      <td>3<\/td>\n",
       "    <\/tr>\n",
       "    <tr>\n",
       "      <th>2<\/th>\n",
       "      <td>XGB<\/td>\n",
       "      <td>8.230541e-08<\/td>\n",
       "      <td>0.071990<\/td>\n",
       "      <td>3<\/td>\n",
       "    <\/tr>\n",
       "    <tr>\n",
       "      <th>3<\/th>\n",
       "      <td>Ridge<\/td>\n",
       "      <td>8.816969e-08<\/td>\n",
       "      <td>0.005870<\/td>\n",
       "      <td>3<\/td>\n",
       "    <\/tr>\n",
       "    <tr>\n",
       "      <th>4<\/th>\n",
       "      <td>ElasticNet<\/td>\n",
       "      <td>8.869051e-08<\/td>\n",
       "      <td>-0.000002<\/td>\n",
       "      <td>3<\/td>\n",
       "    <\/tr>\n",
       "  <\/tbody>\n",
       "<\/table>\n",
       "<\/div>"
      ]
     },
     "metadata":{},
     "output_type":"display_data"
    }
   ],
   "metadata":{
    "datalore":{
     "node_id":"psnLyVcXwufS8J9AxO3YqY",
     "type":"CODE",
     "hide_input_from_viewers":true,
     "hide_output_from_viewers":true
    }
   }
  },
  {
   "cell_type":"code",
   "source":[
    "px5.to_parquet('\/data\/workspace_files\/Metrics\/General\/px5_fits')"
   ],
   "execution_count":null,
   "outputs":[],
   "metadata":{
    "datalore":{
     "node_id":"i7gQ4K1zEfdtOVJvpiVdT1",
     "type":"CODE",
     "hide_input_from_viewers":true,
     "hide_output_from_viewers":true
    }
   }
  },
  {
   "cell_type":"code",
   "source":[
    "px10 = feat_lag_evaluator(lags=3, targ_cols=['px_imp_10'])\n",
    "px10"
   ],
   "execution_count":11,
   "outputs":[
    {
     "name":"stdout",
     "text":[
      "---Loaded Data---\n",
      "[LightGBM] [Info] This is the GPU trainer!!\n",
      "[LightGBM] [Info] Total Bins 1206\n",
      "[LightGBM] [Info] Number of data points in the train set: 11451889, number of used features: 51\n",
      "[LightGBM] [Info] Using GPU Device: Tesla T4, Vendor: NVIDIA Corporation\n",
      "[LightGBM] [Info] Compiling OpenCL Kernel with 256 bins...\n",
      "[LightGBM] [Info] GPU programs have been built\n",
      "[LightGBM] [Info] Size of histogram bin entry: 8\n",
      "[LightGBM] [Info] 11 dense feature groups (131.06 MB) transferred to GPU in 0.161600 secs. 1 sparse feature groups\n",
      "[LightGBM] [Info] Start training from score 0.000000\n",
      "---Trained Models---\n",
      "---Made Predictions---\n",
      "---All Done :)---\n"
     ],
     "output_type":"stream"
    },
    {
     "name":"stderr",
     "text":[
      "\/opt\/python\/envs\/py311\/lib\/python3.11\/site-packages\/cuml\/internals\/api_decorators.py:188: UserWarning: To use pickling first train using float32 data to fit the estimator\n",
      "  ret = func(*args, **kwargs)\n"
     ],
     "output_type":"stream"
    },
    {
     "data":{
      "text\/html":[
       "<div>\n",
       "<style scoped>\n",
       "    .dataframe tbody tr th:only-of-type {\n",
       "        vertical-align: middle;\n",
       "    }\n",
       "\n",
       "    .dataframe tbody tr th {\n",
       "        vertical-align: top;\n",
       "    }\n",
       "\n",
       "    .dataframe thead th {\n",
       "        text-align: right;\n",
       "    }\n",
       "<\/style>\n",
       "<table border=\"1\" class=\"dataframe\">\n",
       "  <thead>\n",
       "    <tr style=\"text-align: right;\">\n",
       "      <th><\/th>\n",
       "      <th>Model<\/th>\n",
       "      <th>MSE<\/th>\n",
       "      <th>R2<\/th>\n",
       "      <th>n_lags<\/th>\n",
       "    <\/tr>\n",
       "  <\/thead>\n",
       "  <tbody>\n",
       "    <tr>\n",
       "      <th>0<\/th>\n",
       "      <td>GBT<\/td>\n",
       "      <td>1.473945e-07<\/td>\n",
       "      <td>7.222733e-02<\/td>\n",
       "      <td>3<\/td>\n",
       "    <\/tr>\n",
       "    <tr>\n",
       "      <th>1<\/th>\n",
       "      <td>RF<\/td>\n",
       "      <td>1.579692e-07<\/td>\n",
       "      <td>5.665290e-03<\/td>\n",
       "      <td>3<\/td>\n",
       "    <\/tr>\n",
       "    <tr>\n",
       "      <th>2<\/th>\n",
       "      <td>XGB<\/td>\n",
       "      <td>1.489892e-07<\/td>\n",
       "      <td>6.218982e-02<\/td>\n",
       "      <td>3<\/td>\n",
       "    <\/tr>\n",
       "    <tr>\n",
       "      <th>3<\/th>\n",
       "      <td>Ridge<\/td>\n",
       "      <td>1.577750e-07<\/td>\n",
       "      <td>6.887234e-03<\/td>\n",
       "      <td>3<\/td>\n",
       "    <\/tr>\n",
       "    <tr>\n",
       "      <th>4<\/th>\n",
       "      <td>ElasticNet<\/td>\n",
       "      <td>1.588693e-07<\/td>\n",
       "      <td>-4.198139e-07<\/td>\n",
       "      <td>3<\/td>\n",
       "    <\/tr>\n",
       "  <\/tbody>\n",
       "<\/table>\n",
       "<\/div>"
      ]
     },
     "metadata":{},
     "output_type":"display_data"
    }
   ],
   "metadata":{
    "datalore":{
     "node_id":"rn5JzOG9m6EnFhRiyDdwdT",
     "type":"CODE",
     "hide_input_from_viewers":true,
     "hide_output_from_viewers":true
    }
   }
  },
  {
   "cell_type":"code",
   "source":[
    "px10.to_parquet('\/data\/workspace_files\/Metrics\/General\/px10_fits')"
   ],
   "execution_count":null,
   "outputs":[],
   "metadata":{
    "datalore":{
     "node_id":"b0EeMK6qpyMGlUj2THEpuR",
     "type":"CODE",
     "hide_input_from_viewers":true,
     "hide_output_from_viewers":true
    }
   }
  },
  {
   "cell_type":"code",
   "source":[
    "px20 = feat_lag_evaluator(lags=3, targ_cols=['px_imp_20'])\n",
    "px20"
   ],
   "execution_count":10,
   "outputs":[
    {
     "name":"stdout",
     "text":[
      "---Loaded Data---\n",
      "[LightGBM] [Info] This is the GPU trainer!!\n",
      "[LightGBM] [Info] Total Bins 1206\n",
      "[LightGBM] [Info] Number of data points in the train set: 11451889, number of used features: 51\n",
      "[LightGBM] [Info] Using GPU Device: Tesla T4, Vendor: NVIDIA Corporation\n",
      "[LightGBM] [Info] Compiling OpenCL Kernel with 256 bins...\n",
      "[LightGBM] [Info] GPU programs have been built\n",
      "[LightGBM] [Info] Size of histogram bin entry: 8\n",
      "[LightGBM] [Info] 11 dense feature groups (131.06 MB) transferred to GPU in 0.165493 secs. 1 sparse feature groups\n",
      "[LightGBM] [Info] Start training from score 0.000000\n",
      "---Trained Models---\n",
      "---Made Predictions---\n",
      "---All Done :)---\n"
     ],
     "output_type":"stream"
    },
    {
     "name":"stderr",
     "text":[
      "\/opt\/python\/envs\/py311\/lib\/python3.11\/site-packages\/cuml\/internals\/api_decorators.py:188: UserWarning: To use pickling first train using float32 data to fit the estimator\n",
      "  ret = func(*args, **kwargs)\n"
     ],
     "output_type":"stream"
    },
    {
     "data":{
      "text\/html":[
       "<div>\n",
       "<style scoped>\n",
       "    .dataframe tbody tr th:only-of-type {\n",
       "        vertical-align: middle;\n",
       "    }\n",
       "\n",
       "    .dataframe tbody tr th {\n",
       "        vertical-align: top;\n",
       "    }\n",
       "\n",
       "    .dataframe thead th {\n",
       "        text-align: right;\n",
       "    }\n",
       "<\/style>\n",
       "<table border=\"1\" class=\"dataframe\">\n",
       "  <thead>\n",
       "    <tr style=\"text-align: right;\">\n",
       "      <th><\/th>\n",
       "      <th>Model<\/th>\n",
       "      <th>MSE<\/th>\n",
       "      <th>R2<\/th>\n",
       "      <th>n_lags<\/th>\n",
       "    <\/tr>\n",
       "  <\/thead>\n",
       "  <tbody>\n",
       "    <tr>\n",
       "      <th>0<\/th>\n",
       "      <td>GBT<\/td>\n",
       "      <td>2.791466e-07<\/td>\n",
       "      <td>6.975064e-02<\/td>\n",
       "      <td>3<\/td>\n",
       "    <\/tr>\n",
       "    <tr>\n",
       "      <th>1<\/th>\n",
       "      <td>RF<\/td>\n",
       "      <td>2.977360e-07<\/td>\n",
       "      <td>7.801599e-03<\/td>\n",
       "      <td>3<\/td>\n",
       "    <\/tr>\n",
       "    <tr>\n",
       "      <th>2<\/th>\n",
       "      <td>XGB<\/td>\n",
       "      <td>2.833173e-07<\/td>\n",
       "      <td>5.585015e-02<\/td>\n",
       "      <td>3<\/td>\n",
       "    <\/tr>\n",
       "    <tr>\n",
       "      <th>3<\/th>\n",
       "      <td>Ridge<\/td>\n",
       "      <td>2.979399e-07<\/td>\n",
       "      <td>7.122226e-03<\/td>\n",
       "      <td>3<\/td>\n",
       "    <\/tr>\n",
       "    <tr>\n",
       "      <th>4<\/th>\n",
       "      <td>ElasticNet<\/td>\n",
       "      <td>3.000771e-07<\/td>\n",
       "      <td>-2.150526e-09<\/td>\n",
       "      <td>3<\/td>\n",
       "    <\/tr>\n",
       "  <\/tbody>\n",
       "<\/table>\n",
       "<\/div>"
      ]
     },
     "metadata":{},
     "output_type":"display_data"
    }
   ],
   "metadata":{
    "datalore":{
     "node_id":"FuLwemyJdTDnmhHZc94zPE",
     "type":"CODE",
     "hide_input_from_viewers":true,
     "hide_output_from_viewers":true
    }
   }
  },
  {
   "cell_type":"code",
   "source":[
    "px20.to_parquet('\/data\/workspace_files\/Metrics\/General\/px20_fits')"
   ],
   "execution_count":11,
   "outputs":[],
   "metadata":{
    "datalore":{
     "node_id":"KZkzjnggr881I4rOBI12qz",
     "type":"CODE",
     "hide_input_from_viewers":true,
     "hide_output_from_viewers":true
    }
   }
  },
  {
   "cell_type":"markdown",
   "source":[
    "## Analysis of Different Delays\n",
    "\n",
    "**Purpose**: This section focuses on understanding the effect of latency on model performance. By applying event shifts (delays) to the feature lags, you can assess how prediction accuracy (in terms of metrics like MSE and R²) changes when the model's input lags are delayed relative to the trade execution. This analysis can provide insights into the sensitivity of the models to execution delays."
   ],
   "attachments":{},
   "metadata":{
    "datalore":{
     "node_id":"zB57ff8S7rwSqn4wYXLg2V",
     "type":"MD",
     "hide_input_from_viewers":true,
     "hide_output_from_viewers":true
    }
   }
  },
  {
   "cell_type":"code",
   "source":[
    "lags = [3]\n",
    "event_shifts = [5, 10, 20]"
   ],
   "execution_count":null,
   "outputs":[],
   "metadata":{
    "datalore":{
     "node_id":"MDSrCzOODybuWrnGhMHRsp",
     "type":"CODE",
     "hide_input_from_viewers":true,
     "hide_output_from_viewers":true
    }
   }
  },
  {
   "cell_type":"code",
   "source":[
    "lag3_px0_5 = feat_lag_evaluator(lags=3, targ_cols=['px_imp_0'], event_shift=5)\n",
    "lag3_px0_5"
   ],
   "execution_count":19,
   "outputs":[
    {
     "name":"stdout",
     "text":[
      "---Loaded Data---\n",
      "[LightGBM] [Info] This is the GPU trainer!!\n",
      "[LightGBM] [Info] Total Bins 1205\n",
      "[LightGBM] [Info] Number of data points in the train set: 11451884, number of used features: 51\n",
      "[LightGBM] [Info] Using GPU Device: Tesla T4, Vendor: NVIDIA Corporation\n",
      "[LightGBM] [Info] Compiling OpenCL Kernel with 256 bins...\n",
      "[LightGBM] [Info] GPU programs have been built\n",
      "[LightGBM] [Info] Size of histogram bin entry: 8\n",
      "[LightGBM] [Info] 11 dense feature groups (131.06 MB) transferred to GPU in 0.180089 secs. 1 sparse feature groups\n",
      "[LightGBM] [Info] Start training from score 0.000000\n",
      "---Trained Models---\n",
      "---Made Predictions---\n",
      "---All Done :)---\n"
     ],
     "output_type":"stream"
    },
    {
     "name":"stderr",
     "text":[
      "\/opt\/python\/envs\/py311\/lib\/python3.11\/site-packages\/cuml\/internals\/api_decorators.py:188: UserWarning: To use pickling first train using float32 data to fit the estimator\n",
      "  ret = func(*args, **kwargs)\n"
     ],
     "output_type":"stream"
    },
    {
     "data":{
      "text\/html":[
       "<div>\n",
       "<style scoped>\n",
       "    .dataframe tbody tr th:only-of-type {\n",
       "        vertical-align: middle;\n",
       "    }\n",
       "\n",
       "    .dataframe tbody tr th {\n",
       "        vertical-align: top;\n",
       "    }\n",
       "\n",
       "    .dataframe thead th {\n",
       "        text-align: right;\n",
       "    }\n",
       "<\/style>\n",
       "<table border=\"1\" class=\"dataframe\">\n",
       "  <thead>\n",
       "    <tr style=\"text-align: right;\">\n",
       "      <th><\/th>\n",
       "      <th>Model<\/th>\n",
       "      <th>MSE<\/th>\n",
       "      <th>R2<\/th>\n",
       "      <th>n_lags<\/th>\n",
       "    <\/tr>\n",
       "  <\/thead>\n",
       "  <tbody>\n",
       "    <tr>\n",
       "      <th>0<\/th>\n",
       "      <td>GBT<\/td>\n",
       "      <td>1.209743e-08<\/td>\n",
       "      <td>0.185776<\/td>\n",
       "      <td>3<\/td>\n",
       "    <\/tr>\n",
       "    <tr>\n",
       "      <th>1<\/th>\n",
       "      <td>RF<\/td>\n",
       "      <td>1.479980e-08<\/td>\n",
       "      <td>0.003892<\/td>\n",
       "      <td>3<\/td>\n",
       "    <\/tr>\n",
       "    <tr>\n",
       "      <th>2<\/th>\n",
       "      <td>XGB<\/td>\n",
       "      <td>1.230859e-08<\/td>\n",
       "      <td>0.171566<\/td>\n",
       "      <td>3<\/td>\n",
       "    <\/tr>\n",
       "    <tr>\n",
       "      <th>3<\/th>\n",
       "      <td>Ridge<\/td>\n",
       "      <td>1.481464e-08<\/td>\n",
       "      <td>0.002893<\/td>\n",
       "      <td>3<\/td>\n",
       "    <\/tr>\n",
       "    <tr>\n",
       "      <th>4<\/th>\n",
       "      <td>ElasticNet<\/td>\n",
       "      <td>1.485792e-08<\/td>\n",
       "      <td>-0.000020<\/td>\n",
       "      <td>3<\/td>\n",
       "    <\/tr>\n",
       "  <\/tbody>\n",
       "<\/table>\n",
       "<\/div>"
      ]
     },
     "metadata":{},
     "output_type":"display_data"
    }
   ],
   "metadata":{
    "datalore":{
     "node_id":"J1Xd72LVCfNlA1PJ5Nf2lS",
     "type":"CODE",
     "hide_input_from_viewers":true,
     "hide_output_from_viewers":true
    }
   }
  },
  {
   "cell_type":"code",
   "source":[
    "lag3_px0_5.to_parquet('\/data\/workspace_files\/Metrics\/Delay\/lag3_px0_5')"
   ],
   "execution_count":13,
   "outputs":[],
   "metadata":{
    "datalore":{
     "node_id":"q3kopC3HQ77xX1ZLb2qdT3",
     "type":"CODE",
     "hide_input_from_viewers":true,
     "hide_output_from_viewers":true
    }
   }
  },
  {
   "cell_type":"code",
   "source":[
    "lag3_px0_10 = feat_lag_evaluator(lags=3, targ_cols=['px_imp_0'], event_shift=10)\n",
    "lag3_px0_10"
   ],
   "execution_count":20,
   "outputs":[
    {
     "name":"stdout",
     "text":[
      "---Loaded Data---\n",
      "[LightGBM] [Info] This is the GPU trainer!!\n",
      "[LightGBM] [Info] Total Bins 1211\n",
      "[LightGBM] [Info] Number of data points in the train set: 11451879, number of used features: 51\n",
      "[LightGBM] [Info] Using GPU Device: Tesla T4, Vendor: NVIDIA Corporation\n",
      "[LightGBM] [Info] Compiling OpenCL Kernel with 256 bins...\n",
      "[LightGBM] [Info] GPU programs have been built\n",
      "[LightGBM] [Info] Size of histogram bin entry: 8\n",
      "[LightGBM] [Info] 11 dense feature groups (131.06 MB) transferred to GPU in 0.161530 secs. 1 sparse feature groups\n",
      "[LightGBM] [Info] Start training from score 0.000000\n",
      "---Trained Models---\n",
      "---Made Predictions---\n",
      "---All Done :)---\n"
     ],
     "output_type":"stream"
    },
    {
     "name":"stderr",
     "text":[
      "\/opt\/python\/envs\/py311\/lib\/python3.11\/site-packages\/cuml\/internals\/api_decorators.py:188: UserWarning: To use pickling first train using float32 data to fit the estimator\n",
      "  ret = func(*args, **kwargs)\n"
     ],
     "output_type":"stream"
    },
    {
     "data":{
      "text\/html":[
       "<div>\n",
       "<style scoped>\n",
       "    .dataframe tbody tr th:only-of-type {\n",
       "        vertical-align: middle;\n",
       "    }\n",
       "\n",
       "    .dataframe tbody tr th {\n",
       "        vertical-align: top;\n",
       "    }\n",
       "\n",
       "    .dataframe thead th {\n",
       "        text-align: right;\n",
       "    }\n",
       "<\/style>\n",
       "<table border=\"1\" class=\"dataframe\">\n",
       "  <thead>\n",
       "    <tr style=\"text-align: right;\">\n",
       "      <th><\/th>\n",
       "      <th>Model<\/th>\n",
       "      <th>MSE<\/th>\n",
       "      <th>R2<\/th>\n",
       "      <th>n_lags<\/th>\n",
       "    <\/tr>\n",
       "  <\/thead>\n",
       "  <tbody>\n",
       "    <tr>\n",
       "      <th>0<\/th>\n",
       "      <td>GBT<\/td>\n",
       "      <td>1.192663e-08<\/td>\n",
       "      <td>0.197272<\/td>\n",
       "      <td>3<\/td>\n",
       "    <\/tr>\n",
       "    <tr>\n",
       "      <th>1<\/th>\n",
       "      <td>RF<\/td>\n",
       "      <td>1.478497e-08<\/td>\n",
       "      <td>0.004890<\/td>\n",
       "      <td>3<\/td>\n",
       "    <\/tr>\n",
       "    <tr>\n",
       "      <th>2<\/th>\n",
       "      <td>XGB<\/td>\n",
       "      <td>1.241020e-08<\/td>\n",
       "      <td>0.164726<\/td>\n",
       "      <td>3<\/td>\n",
       "    <\/tr>\n",
       "    <tr>\n",
       "      <th>3<\/th>\n",
       "      <td>Ridge<\/td>\n",
       "      <td>1.481443e-08<\/td>\n",
       "      <td>0.002907<\/td>\n",
       "      <td>3<\/td>\n",
       "    <\/tr>\n",
       "    <tr>\n",
       "      <th>4<\/th>\n",
       "      <td>ElasticNet<\/td>\n",
       "      <td>1.485793e-08<\/td>\n",
       "      <td>-0.000020<\/td>\n",
       "      <td>3<\/td>\n",
       "    <\/tr>\n",
       "  <\/tbody>\n",
       "<\/table>\n",
       "<\/div>"
      ]
     },
     "metadata":{},
     "output_type":"display_data"
    }
   ],
   "metadata":{
    "datalore":{
     "node_id":"IjRJYJNcnHtGqxACZi3vkM",
     "type":"CODE",
     "hide_input_from_viewers":true,
     "hide_output_from_viewers":true
    }
   }
  },
  {
   "cell_type":"code",
   "source":[
    "lag3_px0_10.to_parquet('\/data\/workspace_files\/Metrics\/Delay\/lag3_px0_10')"
   ],
   "execution_count":null,
   "outputs":[],
   "metadata":{
    "datalore":{
     "node_id":"Gn40sIqrowIQcnjlZ4fPZI",
     "type":"CODE",
     "hide_input_from_viewers":true,
     "hide_output_from_viewers":true
    }
   }
  },
  {
   "cell_type":"code",
   "source":[
    "lag3_px0_20 = feat_lag_evaluator(lags=3, targ_cols=['px_imp_0'], event_shift=20)\n",
    "lag3_px0_20"
   ],
   "execution_count":21,
   "outputs":[
    {
     "name":"stdout",
     "text":[
      "---Loaded Data---\n",
      "[LightGBM] [Info] This is the GPU trainer!!\n",
      "[LightGBM] [Info] Total Bins 1206\n",
      "[LightGBM] [Info] Number of data points in the train set: 11451869, number of used features: 51\n",
      "[LightGBM] [Info] Using GPU Device: Tesla T4, Vendor: NVIDIA Corporation\n",
      "[LightGBM] [Info] Compiling OpenCL Kernel with 256 bins...\n",
      "[LightGBM] [Info] GPU programs have been built\n",
      "[LightGBM] [Info] Size of histogram bin entry: 8\n",
      "[LightGBM] [Info] 11 dense feature groups (131.06 MB) transferred to GPU in 0.162459 secs. 1 sparse feature groups\n",
      "[LightGBM] [Info] Start training from score 0.000000\n",
      "---Trained Models---\n",
      "---Made Predictions---\n",
      "---All Done :)---\n"
     ],
     "output_type":"stream"
    },
    {
     "name":"stderr",
     "text":[
      "\/opt\/python\/envs\/py311\/lib\/python3.11\/site-packages\/cuml\/internals\/api_decorators.py:188: UserWarning: To use pickling first train using float32 data to fit the estimator\n",
      "  ret = func(*args, **kwargs)\n"
     ],
     "output_type":"stream"
    },
    {
     "data":{
      "text\/html":[
       "<div>\n",
       "<style scoped>\n",
       "    .dataframe tbody tr th:only-of-type {\n",
       "        vertical-align: middle;\n",
       "    }\n",
       "\n",
       "    .dataframe tbody tr th {\n",
       "        vertical-align: top;\n",
       "    }\n",
       "\n",
       "    .dataframe thead th {\n",
       "        text-align: right;\n",
       "    }\n",
       "<\/style>\n",
       "<table border=\"1\" class=\"dataframe\">\n",
       "  <thead>\n",
       "    <tr style=\"text-align: right;\">\n",
       "      <th><\/th>\n",
       "      <th>Model<\/th>\n",
       "      <th>MSE<\/th>\n",
       "      <th>R2<\/th>\n",
       "      <th>n_lags<\/th>\n",
       "    <\/tr>\n",
       "  <\/thead>\n",
       "  <tbody>\n",
       "    <tr>\n",
       "      <th>0<\/th>\n",
       "      <td>GBT<\/td>\n",
       "      <td>1.206718e-08<\/td>\n",
       "      <td>0.187813<\/td>\n",
       "      <td>3<\/td>\n",
       "    <\/tr>\n",
       "    <tr>\n",
       "      <th>1<\/th>\n",
       "      <td>RF<\/td>\n",
       "      <td>1.479562e-08<\/td>\n",
       "      <td>0.004174<\/td>\n",
       "      <td>3<\/td>\n",
       "    <\/tr>\n",
       "    <tr>\n",
       "      <th>2<\/th>\n",
       "      <td>XGB<\/td>\n",
       "      <td>1.236857e-08<\/td>\n",
       "      <td>0.167529<\/td>\n",
       "      <td>3<\/td>\n",
       "    <\/tr>\n",
       "    <tr>\n",
       "      <th>3<\/th>\n",
       "      <td>Ridge<\/td>\n",
       "      <td>1.481446e-08<\/td>\n",
       "      <td>0.002906<\/td>\n",
       "      <td>3<\/td>\n",
       "    <\/tr>\n",
       "    <tr>\n",
       "      <th>4<\/th>\n",
       "      <td>ElasticNet<\/td>\n",
       "      <td>1.485793e-08<\/td>\n",
       "      <td>-0.000020<\/td>\n",
       "      <td>3<\/td>\n",
       "    <\/tr>\n",
       "  <\/tbody>\n",
       "<\/table>\n",
       "<\/div>"
      ]
     },
     "metadata":{},
     "output_type":"display_data"
    }
   ],
   "metadata":{
    "datalore":{
     "node_id":"FNN9vtdLSWeBnPwhHGBmG7",
     "type":"CODE",
     "hide_input_from_viewers":true,
     "hide_output_from_viewers":true
    }
   }
  },
  {
   "cell_type":"code",
   "source":[
    "lag3_px0_20.to_parquet('\/data\/workspace_files\/Metrics\/Delay\/lag3_px0_20')"
   ],
   "execution_count":null,
   "outputs":[],
   "metadata":{
    "datalore":{
     "node_id":"2Ykj1RTOlirf5qRRRfmsPj",
     "type":"CODE",
     "hide_input_from_viewers":true,
     "hide_output_from_viewers":true
    }
   }
  },
  {
   "cell_type":"code",
   "source":[
    "lag3_px5_5 = feat_lag_evaluator(lags=3, targ_cols=['px_imp_5'], event_shift=5)\n",
    "lag3_px5_5"
   ],
   "execution_count":22,
   "outputs":[
    {
     "name":"stdout",
     "text":[
      "---Loaded Data---\n",
      "[LightGBM] [Info] This is the GPU trainer!!\n",
      "[LightGBM] [Info] Total Bins 1205\n",
      "[LightGBM] [Info] Number of data points in the train set: 11451884, number of used features: 51\n",
      "[LightGBM] [Info] Using GPU Device: Tesla T4, Vendor: NVIDIA Corporation\n",
      "[LightGBM] [Info] Compiling OpenCL Kernel with 256 bins...\n",
      "[LightGBM] [Info] GPU programs have been built\n",
      "[LightGBM] [Info] Size of histogram bin entry: 8\n",
      "[LightGBM] [Info] 11 dense feature groups (131.06 MB) transferred to GPU in 0.162065 secs. 1 sparse feature groups\n",
      "[LightGBM] [Info] Start training from score 0.000000\n",
      "---Trained Models---\n",
      "---Made Predictions---\n",
      "---All Done :)---\n"
     ],
     "output_type":"stream"
    },
    {
     "name":"stderr",
     "text":[
      "\/opt\/python\/envs\/py311\/lib\/python3.11\/site-packages\/cuml\/internals\/api_decorators.py:188: UserWarning: To use pickling first train using float32 data to fit the estimator\n",
      "  ret = func(*args, **kwargs)\n"
     ],
     "output_type":"stream"
    },
    {
     "data":{
      "text\/html":[
       "<div>\n",
       "<style scoped>\n",
       "    .dataframe tbody tr th:only-of-type {\n",
       "        vertical-align: middle;\n",
       "    }\n",
       "\n",
       "    .dataframe tbody tr th {\n",
       "        vertical-align: top;\n",
       "    }\n",
       "\n",
       "    .dataframe thead th {\n",
       "        text-align: right;\n",
       "    }\n",
       "<\/style>\n",
       "<table border=\"1\" class=\"dataframe\">\n",
       "  <thead>\n",
       "    <tr style=\"text-align: right;\">\n",
       "      <th><\/th>\n",
       "      <th>Model<\/th>\n",
       "      <th>MSE<\/th>\n",
       "      <th>R2<\/th>\n",
       "      <th>n_lags<\/th>\n",
       "    <\/tr>\n",
       "  <\/thead>\n",
       "  <tbody>\n",
       "    <tr>\n",
       "      <th>0<\/th>\n",
       "      <td>GBT<\/td>\n",
       "      <td>8.123644e-08<\/td>\n",
       "      <td>0.084044<\/td>\n",
       "      <td>3<\/td>\n",
       "    <\/tr>\n",
       "    <tr>\n",
       "      <th>1<\/th>\n",
       "      <td>RF<\/td>\n",
       "      <td>8.809951e-08<\/td>\n",
       "      <td>0.006662<\/td>\n",
       "      <td>3<\/td>\n",
       "    <\/tr>\n",
       "    <tr>\n",
       "      <th>2<\/th>\n",
       "      <td>XGB<\/td>\n",
       "      <td>8.226289e-08<\/td>\n",
       "      <td>0.072470<\/td>\n",
       "      <td>3<\/td>\n",
       "    <\/tr>\n",
       "    <tr>\n",
       "      <th>3<\/th>\n",
       "      <td>Ridge<\/td>\n",
       "      <td>8.816686e-08<\/td>\n",
       "      <td>0.005903<\/td>\n",
       "      <td>3<\/td>\n",
       "    <\/tr>\n",
       "    <tr>\n",
       "      <th>4<\/th>\n",
       "      <td>ElasticNet<\/td>\n",
       "      <td>8.869054e-08<\/td>\n",
       "      <td>-0.000002<\/td>\n",
       "      <td>3<\/td>\n",
       "    <\/tr>\n",
       "  <\/tbody>\n",
       "<\/table>\n",
       "<\/div>"
      ]
     },
     "metadata":{},
     "output_type":"display_data"
    }
   ],
   "metadata":{
    "datalore":{
     "node_id":"MkEo9ZX6aZgcAwrZBqXv4A",
     "type":"CODE",
     "hide_input_from_viewers":true,
     "hide_output_from_viewers":true
    }
   }
  },
  {
   "cell_type":"code",
   "source":[
    "lag3_px5_5.to_parquet('\/data\/workspace_files\/Metrics\/Delay\/lag3_px5_5')"
   ],
   "execution_count":null,
   "outputs":[],
   "metadata":{
    "datalore":{
     "node_id":"rO2UwTP5JJJ7GhXpxvK0HO",
     "type":"CODE",
     "hide_input_from_viewers":true,
     "hide_output_from_viewers":true
    }
   }
  },
  {
   "cell_type":"code",
   "source":[
    "lag3_px5_10 = feat_lag_evaluator(lags=3, targ_cols=['px_imp_5'], event_shift=10)\n",
    "lag3_px5_10"
   ],
   "execution_count":23,
   "outputs":[
    {
     "name":"stdout",
     "text":[
      "---Loaded Data---\n",
      "[LightGBM] [Info] This is the GPU trainer!!\n",
      "[LightGBM] [Info] Total Bins 1211\n",
      "[LightGBM] [Info] Number of data points in the train set: 11451879, number of used features: 51\n",
      "[LightGBM] [Info] Using GPU Device: Tesla T4, Vendor: NVIDIA Corporation\n",
      "[LightGBM] [Info] Compiling OpenCL Kernel with 256 bins...\n",
      "[LightGBM] [Info] GPU programs have been built\n",
      "[LightGBM] [Info] Size of histogram bin entry: 8\n",
      "[LightGBM] [Info] 11 dense feature groups (131.06 MB) transferred to GPU in 0.161162 secs. 1 sparse feature groups\n",
      "[LightGBM] [Info] Start training from score 0.000000\n",
      "---Trained Models---\n",
      "---Made Predictions---\n",
      "---All Done :)---\n"
     ],
     "output_type":"stream"
    },
    {
     "name":"stderr",
     "text":[
      "\/opt\/python\/envs\/py311\/lib\/python3.11\/site-packages\/cuml\/internals\/api_decorators.py:188: UserWarning: To use pickling first train using float32 data to fit the estimator\n",
      "  ret = func(*args, **kwargs)\n"
     ],
     "output_type":"stream"
    },
    {
     "data":{
      "text\/html":[
       "<div>\n",
       "<style scoped>\n",
       "    .dataframe tbody tr th:only-of-type {\n",
       "        vertical-align: middle;\n",
       "    }\n",
       "\n",
       "    .dataframe tbody tr th {\n",
       "        vertical-align: top;\n",
       "    }\n",
       "\n",
       "    .dataframe thead th {\n",
       "        text-align: right;\n",
       "    }\n",
       "<\/style>\n",
       "<table border=\"1\" class=\"dataframe\">\n",
       "  <thead>\n",
       "    <tr style=\"text-align: right;\">\n",
       "      <th><\/th>\n",
       "      <th>Model<\/th>\n",
       "      <th>MSE<\/th>\n",
       "      <th>R2<\/th>\n",
       "      <th>n_lags<\/th>\n",
       "    <\/tr>\n",
       "  <\/thead>\n",
       "  <tbody>\n",
       "    <tr>\n",
       "      <th>0<\/th>\n",
       "      <td>GBT<\/td>\n",
       "      <td>8.138893e-08<\/td>\n",
       "      <td>0.082325<\/td>\n",
       "      <td>3<\/td>\n",
       "    <\/tr>\n",
       "    <tr>\n",
       "      <th>1<\/th>\n",
       "      <td>RF<\/td>\n",
       "      <td>8.820974e-08<\/td>\n",
       "      <td>0.005420<\/td>\n",
       "      <td>3<\/td>\n",
       "    <\/tr>\n",
       "    <tr>\n",
       "      <th>2<\/th>\n",
       "      <td>XGB<\/td>\n",
       "      <td>8.234878e-08<\/td>\n",
       "      <td>0.071500<\/td>\n",
       "      <td>3<\/td>\n",
       "    <\/tr>\n",
       "    <tr>\n",
       "      <th>3<\/th>\n",
       "      <td>Ridge<\/td>\n",
       "      <td>8.816695e-08<\/td>\n",
       "      <td>0.005902<\/td>\n",
       "      <td>3<\/td>\n",
       "    <\/tr>\n",
       "    <tr>\n",
       "      <th>4<\/th>\n",
       "      <td>ElasticNet<\/td>\n",
       "      <td>8.869056e-08<\/td>\n",
       "      <td>-0.000002<\/td>\n",
       "      <td>3<\/td>\n",
       "    <\/tr>\n",
       "  <\/tbody>\n",
       "<\/table>\n",
       "<\/div>"
      ]
     },
     "metadata":{},
     "output_type":"display_data"
    }
   ],
   "metadata":{
    "datalore":{
     "node_id":"ax9DNWwHtu6d8XmxcX1tbW",
     "type":"CODE",
     "hide_input_from_viewers":true,
     "hide_output_from_viewers":true
    }
   }
  },
  {
   "cell_type":"code",
   "source":[
    "lag3_px5_10.to_parquet('\/data\/workspace_files\/Metrics\/Delay\/lag3_px5_10')"
   ],
   "execution_count":null,
   "outputs":[],
   "metadata":{
    "datalore":{
     "node_id":"lnknSy6dsiCndzCcCdIEGV",
     "type":"CODE",
     "hide_input_from_viewers":true,
     "hide_output_from_viewers":true
    }
   }
  },
  {
   "cell_type":"code",
   "source":[
    "lag3_px5_20 = feat_lag_evaluator(lags=3, targ_cols=['px_imp_5'], event_shift=20)\n",
    "lag3_px5_20"
   ],
   "execution_count":24,
   "outputs":[
    {
     "name":"stdout",
     "text":[
      "---Loaded Data---\n",
      "[LightGBM] [Info] This is the GPU trainer!!\n",
      "[LightGBM] [Info] Total Bins 1206\n",
      "[LightGBM] [Info] Number of data points in the train set: 11451869, number of used features: 51\n",
      "[LightGBM] [Info] Using GPU Device: Tesla T4, Vendor: NVIDIA Corporation\n",
      "[LightGBM] [Info] Compiling OpenCL Kernel with 256 bins...\n",
      "[LightGBM] [Info] GPU programs have been built\n",
      "[LightGBM] [Info] Size of histogram bin entry: 8\n",
      "[LightGBM] [Info] 11 dense feature groups (131.06 MB) transferred to GPU in 0.162030 secs. 1 sparse feature groups\n",
      "[LightGBM] [Info] Start training from score 0.000000\n",
      "---Trained Models---\n",
      "---Made Predictions---\n",
      "---All Done :)---\n"
     ],
     "output_type":"stream"
    },
    {
     "name":"stderr",
     "text":[
      "\/opt\/python\/envs\/py311\/lib\/python3.11\/site-packages\/cuml\/internals\/api_decorators.py:188: UserWarning: To use pickling first train using float32 data to fit the estimator\n",
      "  ret = func(*args, **kwargs)\n"
     ],
     "output_type":"stream"
    },
    {
     "data":{
      "text\/html":[
       "<div>\n",
       "<style scoped>\n",
       "    .dataframe tbody tr th:only-of-type {\n",
       "        vertical-align: middle;\n",
       "    }\n",
       "\n",
       "    .dataframe tbody tr th {\n",
       "        vertical-align: top;\n",
       "    }\n",
       "\n",
       "    .dataframe thead th {\n",
       "        text-align: right;\n",
       "    }\n",
       "<\/style>\n",
       "<table border=\"1\" class=\"dataframe\">\n",
       "  <thead>\n",
       "    <tr style=\"text-align: right;\">\n",
       "      <th><\/th>\n",
       "      <th>Model<\/th>\n",
       "      <th>MSE<\/th>\n",
       "      <th>R2<\/th>\n",
       "      <th>n_lags<\/th>\n",
       "    <\/tr>\n",
       "  <\/thead>\n",
       "  <tbody>\n",
       "    <tr>\n",
       "      <th>0<\/th>\n",
       "      <td>GBT<\/td>\n",
       "      <td>8.162376e-08<\/td>\n",
       "      <td>0.079678<\/td>\n",
       "      <td>3<\/td>\n",
       "    <\/tr>\n",
       "    <tr>\n",
       "      <th>1<\/th>\n",
       "      <td>RF<\/td>\n",
       "      <td>8.823358e-08<\/td>\n",
       "      <td>0.005151<\/td>\n",
       "      <td>3<\/td>\n",
       "    <\/tr>\n",
       "    <tr>\n",
       "      <th>2<\/th>\n",
       "      <td>XGB<\/td>\n",
       "      <td>8.230037e-08<\/td>\n",
       "      <td>0.072050<\/td>\n",
       "      <td>3<\/td>\n",
       "    <\/tr>\n",
       "    <tr>\n",
       "      <th>3<\/th>\n",
       "      <td>Ridge<\/td>\n",
       "      <td>8.816773e-08<\/td>\n",
       "      <td>0.005894<\/td>\n",
       "      <td>3<\/td>\n",
       "    <\/tr>\n",
       "    <tr>\n",
       "      <th>4<\/th>\n",
       "      <td>ElasticNet<\/td>\n",
       "      <td>8.869062e-08<\/td>\n",
       "      <td>-0.000002<\/td>\n",
       "      <td>3<\/td>\n",
       "    <\/tr>\n",
       "  <\/tbody>\n",
       "<\/table>\n",
       "<\/div>"
      ]
     },
     "metadata":{},
     "output_type":"display_data"
    }
   ],
   "metadata":{
    "datalore":{
     "node_id":"fKN3KXPiZYceY0vvrQ5X9o",
     "type":"CODE",
     "hide_input_from_viewers":true,
     "hide_output_from_viewers":true
    }
   }
  },
  {
   "cell_type":"code",
   "source":[
    "lag3_px5_20.to_parquet('\/data\/workspace_files\/Metrics\/Delay\/lag3_px5_20')"
   ],
   "execution_count":null,
   "outputs":[],
   "metadata":{
    "datalore":{
     "node_id":"3gQEA198hjMaRYLBjI4eDH",
     "type":"CODE",
     "hide_input_from_viewers":true,
     "hide_output_from_viewers":true
    }
   }
  },
  {
   "cell_type":"markdown",
   "source":[
    "## Visualization of Performance Metrics\n",
    "\n",
    "**Purpose**: Create visual summaries (e.g., bar plots) that compare R² and MSE across various feature lags, time frames, and delays. These plots help to illustrate how predictive performance varies with different configurations and highlight the superiority of non-linear models over linear ones."
   ],
   "attachments":{},
   "metadata":{
    "datalore":{
     "node_id":"bCL7Rd9QC31PC7mzXGXAmz",
     "type":"MD",
     "hide_input_from_viewers":true,
     "hide_output_from_viewers":true
    }
   }
  },
  {
   "cell_type":"markdown",
   "source":[
    "### For different lags"
   ],
   "attachments":{},
   "metadata":{
    "datalore":{
     "node_id":"h4X1t05tpqax97yzm70Fub",
     "type":"MD",
     "hide_input_from_viewers":true,
     "hide_output_from_viewers":true
    }
   }
  },
  {
   "cell_type":"code",
   "source":[
    "import pandas as pd\n",
    "import matplotlib.pyplot as plt\n",
    "import seaborn as sns\n",
    "\n",
    "\n",
    "df = pd.read_csv(\"\/data\/workspace_files\/lags.csv\")\n",
    "df = df.dropna(subset=[\"n_lags\"])\n",
    "\n",
    "# Convert n_lags to string or categorical so that Seaborn treats it as discrete\n",
    "df['n_lags'] = df['n_lags'].astype(str)\n",
    "df[\"R2\"] = pd.to_numeric(df[\"R2\"], errors=\"coerce\").round(5)\n",
    "\n",
    "plt.figure(figsize=(10, 6))\n",
    "sns.barplot(\n",
    "    data=df,\n",
    "    x=\"n_lags\",       # Lags on the X-axis\n",
    "    y=\"R2\",           # R² on the Y-axis\n",
    "    hue=\"Model\",      # Different bars (colors) for each model\n",
    "    palette=\"viridis\"\n",
    ")\n",
    "\n",
    "plt.title(\"R² for Each Model at Each Lag\")\n",
    "plt.xlabel(\"Number of Lags\")\n",
    "plt.ylabel(\"R²\")\n",
    "plt.legend(title=\"Model\")\n",
    "plt.tight_layout()\n",
    "plt.show()\n",
    "\n",
    "\n",
    "plt.figure(figsize=(10, 6))\n",
    "sns.barplot(\n",
    "    data=df,\n",
    "    x=\"n_lags\",       # Lags on the X-axis\n",
    "    y=\"MSE\",           # R² on the Y-axis\n",
    "    hue=\"Model\",      # Different bars (colors) for each model\n",
    "    palette=\"viridis\"\n",
    ")\n",
    "\n",
    "plt.title(\"MSE for Each Model at Each Lag\")\n",
    "plt.xlabel(\"Number of Lags\")\n",
    "plt.ylabel(\"R²\")\n",
    "plt.legend(title=\"Model\")\n",
    "plt.tight_layout()\n",
    "plt.show()"
   ],
   "execution_count":8,
   "outputs":[
    {
     "data":{
      "image\/png":"[encoded data removed]"
     },
     "metadata":{
      "image\/png":{}
     },
     "output_type":"display_data"
    },
    {
     "data":{
      "image\/png":"[encoded data removed]"
     },
     "metadata":{
      "image\/png":{}
     },
     "output_type":"display_data"
    }
   ],
   "metadata":{
    "datalore":{
     "node_id":"11tEwPjCYf3iG8OTzntzrq",
     "type":"CODE",
     "hide_input_from_viewers":true,
     "hide_output_from_viewers":true
    }
   }
  },
  {
   "cell_type":"markdown",
   "source":[
    "### For different time frames"
   ],
   "attachments":{},
   "metadata":{
    "datalore":{
     "node_id":"5mJEVObyq9ufCiuHz8dyyW",
     "type":"MD",
     "hide_input_from_viewers":true,
     "hide_output_from_viewers":true
    }
   }
  },
  {
   "cell_type":"code",
   "source":[
    "df = pd.read_csv(\"\/data\/workspace_files\/timeframe.csv\")\n",
    "df = df.dropna(subset=[\"n_lags\"])\n",
    "\n",
    "df['n_lags'] = df['n_lags'].astype(str)\n",
    "df[\"R2\"] = pd.to_numeric(df[\"R2\"], errors=\"coerce\").round(5)\n",
    "\n",
    "plt.figure(figsize=(10, 6))\n",
    "sns.barplot(\n",
    "    data=df,\n",
    "    x=\"Timeframe\",       # Lags on the X-axis\n",
    "    y=\"R2\",           # R² on the Y-axis\n",
    "    hue=\"Model\",      # Different bars (colors) for each model\n",
    "    palette=\"viridis\"\n",
    ")\n",
    "\n",
    "plt.title(\"R²\")\n",
    "plt.xlabel(\"Time Frame\")\n",
    "plt.ylabel(\"R²\")\n",
    "plt.legend(title=\"Model\")\n",
    "plt.tight_layout()\n",
    "plt.show()\n",
    "\n",
    "\n",
    "plt.figure(figsize=(10, 6))\n",
    "sns.barplot(\n",
    "    data=df,\n",
    "    x=\"Timeframe\",       # Lags on the X-axis\n",
    "    y=\"MSE\",           # R² on the Y-axis\n",
    "    hue=\"Model\",      # Different bars (colors) for each model\n",
    "    palette=\"viridis\"\n",
    ")\n",
    "\n",
    "plt.title(\"MSE\")\n",
    "plt.xlabel(\"Time Frame\")\n",
    "plt.ylabel(\"R²\")\n",
    "plt.legend(title=\"Model\")\n",
    "plt.tight_layout()\n",
    "plt.show()"
   ],
   "execution_count":9,
   "outputs":[
    {
     "data":{
      "image\/png":"[encoded data removed]"
     },
     "metadata":{
      "image\/png":{}
     },
     "output_type":"display_data"
    },
    {
     "data":{
      "image\/png":"[encoded data removed]"
     },
     "metadata":{
      "image\/png":{}
     },
     "output_type":"display_data"
    }
   ],
   "metadata":{
    "datalore":{
     "node_id":"LY7shQE2yvk6S9792GBscR",
     "type":"CODE",
     "hide_input_from_viewers":true,
     "hide_output_from_viewers":true
    }
   }
  },
  {
   "cell_type":"markdown",
   "source":[
    "### For different latencies"
   ],
   "attachments":{},
   "metadata":{
    "datalore":{
     "node_id":"NZnjMfDiVgyRwOh5get3NR",
     "type":"MD",
     "hide_input_from_viewers":true,
     "hide_output_from_viewers":true
    }
   }
  },
  {
   "cell_type":"code",
   "source":[
    "import pandas as pd\n",
    "import matplotlib.pyplot as plt\n",
    "import seaborn as sns\n",
    "\n",
    "# Read and prepare your data\n",
    "df = pd.read_csv(\"\/data\/workspace_files\/delays.csv\")\n",
    "df[\"MSE\"] = pd.to_numeric(df[\"MSE\"], errors=\"coerce\")\n",
    "df[\"R2\"] = pd.to_numeric(df[\"R2\"], errors=\"coerce\")\n",
    "df[\"Delay\"] = pd.to_numeric(df[\"Delay\"], errors=\"coerce\")\n",
    "df[\"Px\"] = pd.to_numeric(df[\"Px\"], errors=\"coerce\")\n",
    "\n",
    "# Filter for px = 0\n",
    "df_px0 = df[df[\"Px\"] == 0]\n",
    "\n",
    "# Plot R² vs. Timeframe for px = 0\n",
    "plt.figure(figsize=(10, 6))\n",
    "sns.barplot(\n",
    "    data=df_px0,\n",
    "    x=\"Delay\",       # X-axis: your time frame (e.g., lags)\n",
    "    y=\"R2\",              # Y-axis: R² values\n",
    "    hue=\"Model\",         # Different colors for each model\n",
    "    palette=\"viridis\"\n",
    ")\n",
    "plt.title(\"R² Performance Across Time Frames (px = 0)\")\n",
    "plt.xlabel(\"Delay\")\n",
    "plt.ylabel(\"R²\")\n",
    "plt.legend(title=\"Model\")\n",
    "plt.tight_layout()\n",
    "plt.show()\n",
    "\n",
    "# Plot MSE vs. Timeframe for px = 0\n",
    "plt.figure(figsize=(10, 6))\n",
    "sns.barplot(\n",
    "    data=df_px0,\n",
    "    x=\"Delay\",       # X-axis: your time frame (e.g., lags)\n",
    "    y=\"MSE\",             # Y-axis: MSE values\n",
    "    hue=\"Model\",         # Different colors for each model\n",
    "    palette=\"viridis\"\n",
    ")\n",
    "plt.title(\"MSE Performance Across Time Frames (px = 0)\")\n",
    "plt.xlabel(\"Delay\")\n",
    "plt.ylabel(\"MSE\")\n",
    "plt.legend(title=\"Model\")\n",
    "plt.tight_layout()\n",
    "plt.show()"
   ],
   "execution_count":10,
   "outputs":[
    {
     "data":{
      "image\/png":"[encoded data removed]"
     },
     "metadata":{
      "image\/png":{}
     },
     "output_type":"display_data"
    },
    {
     "data":{
      "image\/png":"[encoded data removed]"
     },
     "metadata":{
      "image\/png":{}
     },
     "output_type":"display_data"
    }
   ],
   "metadata":{
    "datalore":{
     "node_id":"O7kxCngDSncFaK5noTrwQF",
     "type":"CODE",
     "hide_input_from_viewers":true,
     "hide_output_from_viewers":true
    }
   }
  },
  {
   "cell_type":"code",
   "source":[
    "import pandas as pd\n",
    "import matplotlib.pyplot as plt\n",
    "import seaborn as sns\n",
    "\n",
    "# Read and prepare your data\n",
    "df = pd.read_csv(\"\/data\/workspace_files\/delays.csv\")\n",
    "df[\"MSE\"] = pd.to_numeric(df[\"MSE\"], errors=\"coerce\")\n",
    "df[\"R2\"] = pd.to_numeric(df[\"R2\"], errors=\"coerce\")\n",
    "df[\"Delay\"] = pd.to_numeric(df[\"Delay\"], errors=\"coerce\")\n",
    "df[\"Px\"] = pd.to_numeric(df[\"Px\"], errors=\"coerce\")\n",
    "\n",
    "# Filter for px = 0\n",
    "df_px5 = df[df[\"Px\"] == 5]\n",
    "\n",
    "# Plot R² vs. Timeframe for px = 0\n",
    "plt.figure(figsize=(10, 6))\n",
    "sns.barplot(\n",
    "    data=df_px5,\n",
    "    x=\"Delay\",       # X-axis: your time frame (e.g., lags)\n",
    "    y=\"R2\",              # Y-axis: R² values\n",
    "    hue=\"Model\",         # Different colors for each model\n",
    "    palette=\"viridis\"\n",
    ")\n",
    "plt.title(\"R² Performance Across Time Frames (px = 5)\")\n",
    "plt.xlabel(\"Delay\")\n",
    "plt.ylabel(\"R²\")\n",
    "plt.legend(title=\"Model\")\n",
    "plt.tight_layout()\n",
    "plt.show()\n",
    "\n",
    "# Plot MSE vs. Timeframe for px = 0\n",
    "plt.figure(figsize=(10, 6))\n",
    "sns.barplot(\n",
    "    data=df_px5,\n",
    "    x=\"Delay\",       # X-axis: your time frame (e.g., lags)\n",
    "    y=\"MSE\",             # Y-axis: MSE values\n",
    "    hue=\"Model\",         # Different colors for each model\n",
    "    palette=\"viridis\"\n",
    ")\n",
    "plt.title(\"MSE Performance Across Time Frames (px = 5)\")\n",
    "plt.xlabel(\"Delay\")\n",
    "plt.ylabel(\"MSE\")\n",
    "plt.legend(title=\"Model\")\n",
    "plt.tight_layout()\n",
    "plt.show()"
   ],
   "execution_count":11,
   "outputs":[
    {
     "data":{
      "image\/png":"[encoded data removed]"
     },
     "metadata":{
      "image\/png":{}
     },
     "output_type":"display_data"
    },
    {
     "data":{
      "image\/png":"[encoded data removed]"
     },
     "metadata":{
      "image\/png":{}
     },
     "output_type":"display_data"
    }
   ],
   "metadata":{
    "datalore":{
     "node_id":"qRF4NAOV2jsMcFLEsTFEU5",
     "type":"CODE",
     "hide_input_from_viewers":true,
     "hide_output_from_viewers":true
    }
   }
  }
 ],
 "metadata":{
  "kernelspec":{
   "display_name":"Python",
   "language":"python",
   "name":"python"
  },
  "datalore":{
   "computation_mode":"JUPYTER",
   "package_manager":"pip",
   "base_environment":"py311",
   "packages":[],
   "report_row_ids":[],
   "version":3
  }
 },
 "nbformat":4,
 "nbformat_minor":4
}